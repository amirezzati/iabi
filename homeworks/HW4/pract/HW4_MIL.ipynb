{
  "cells": [
    {
      "cell_type": "markdown",
      "metadata": {
        "id": "QcVg1HAiyIB3"
      },
      "source": [
        "# HW4 - Breast Cancer Detection using Multiple Instance Learning (MIL) (100 points)\n",
        "\n",
        "## Course Name: Intelligent Analysis of Biomedical Images\n",
        "\n",
        "#### Lecturers: Dr. Rohban\n",
        "#### Name: Amir Mohammad Ezzati\n",
        "#### Student ID: 402212269\n",
        "\n",
        "---\n",
        "\n",
        "**Contact**: Ask your questions in Quera\n",
        "\n",
        "---\n",
        "\n",
        "\n"
      ]
    },
    {
      "cell_type": "markdown",
      "metadata": {
        "id": "UbrB0MgxhWqi"
      },
      "source": [
        "In this part we are going implement the idea proposed by the paper \"Breast Cancer Histopathology Image Classification\n",
        "and Localization using Multiple Instance Learning\" and reproduce some of their results. Please read this paper before starting the next part. Here is the link to it:\n",
        "\n",
        "https://arxiv.org/pdf/2003.00823.pdf"
      ]
    },
    {
      "cell_type": "markdown",
      "metadata": {
        "id": "Zq_v4elarDmA"
      },
      "source": [
        "In the next sections, we only use one of the presented datasets in the above paper. In the explanation of every section, it is assumed that you have read the paper before starting that part. It should also be mentioned that you are free to modify everything in this notebook and all provided codes are for better understanding."
      ]
    },
    {
      "cell_type": "markdown",
      "metadata": {
        "id": "4w6BPc4JQdc3"
      },
      "source": [
        "You can read the \"Attention-based Deep Multiple Instance Learning\" paper for more explanation. Here is the link to it:\n",
        "\n",
        "https://arxiv.org/pdf/1802.04712.pdf"
      ]
    },
    {
      "cell_type": "markdown",
      "metadata": {
        "id": "Pt_IZkamipl0"
      },
      "source": [
        "## Imports"
      ]
    },
    {
      "cell_type": "markdown",
      "metadata": {
        "id": "dtR6EJb-jqkf"
      },
      "source": [
        "Feel free to import any library you need."
      ]
    },
    {
      "cell_type": "code",
      "execution_count": 1,
      "metadata": {
        "colab": {
          "base_uri": "https://localhost:8080/"
        },
        "id": "TsTsJ5ErP3pK",
        "outputId": "513538f3-416d-48f5-d0bb-901d0924ba6c"
      },
      "outputs": [
        {
          "name": "stdout",
          "output_type": "stream",
          "text": [
            "Collecting wandb\n",
            "  Downloading wandb-0.16.1-py3-none-any.whl (2.1 MB)\n",
            "\u001b[2K     \u001b[90m━━━━━━━━━━━━━━━━━━━━━━━━━━━━━━━━━━━━━━━━\u001b[0m \u001b[32m2.1/2.1 MB\u001b[0m \u001b[31m14.3 MB/s\u001b[0m eta \u001b[36m0:00:00\u001b[0m\n",
            "\u001b[?25hRequirement already satisfied: Click!=8.0.0,>=7.1 in /usr/local/lib/python3.10/dist-packages (from wandb) (8.1.7)\n",
            "Collecting GitPython!=3.1.29,>=1.0.0 (from wandb)\n",
            "  Downloading GitPython-3.1.40-py3-none-any.whl (190 kB)\n",
            "\u001b[2K     \u001b[90m━━━━━━━━━━━━━━━━━━━━━━━━━━━━━━━━━━━━━━━━\u001b[0m \u001b[32m190.6/190.6 kB\u001b[0m \u001b[31m19.6 MB/s\u001b[0m eta \u001b[36m0:00:00\u001b[0m\n",
            "\u001b[?25hRequirement already satisfied: requests<3,>=2.0.0 in /usr/local/lib/python3.10/dist-packages (from wandb) (2.31.0)\n",
            "Requirement already satisfied: psutil>=5.0.0 in /usr/local/lib/python3.10/dist-packages (from wandb) (5.9.5)\n",
            "Collecting sentry-sdk>=1.0.0 (from wandb)\n",
            "  Downloading sentry_sdk-1.39.1-py2.py3-none-any.whl (254 kB)\n",
            "\u001b[2K     \u001b[90m━━━━━━━━━━━━━━━━━━━━━━━━━━━━━━━━━━━━━━━━\u001b[0m \u001b[32m254.1/254.1 kB\u001b[0m \u001b[31m3.7 MB/s\u001b[0m eta \u001b[36m0:00:00\u001b[0m\n",
            "\u001b[?25hCollecting docker-pycreds>=0.4.0 (from wandb)\n",
            "  Downloading docker_pycreds-0.4.0-py2.py3-none-any.whl (9.0 kB)\n",
            "Requirement already satisfied: PyYAML in /usr/local/lib/python3.10/dist-packages (from wandb) (6.0.1)\n",
            "Collecting setproctitle (from wandb)\n",
            "  Downloading setproctitle-1.3.3-cp310-cp310-manylinux_2_5_x86_64.manylinux1_x86_64.manylinux_2_17_x86_64.manylinux2014_x86_64.whl (30 kB)\n",
            "Requirement already satisfied: setuptools in /usr/local/lib/python3.10/dist-packages (from wandb) (67.7.2)\n",
            "Requirement already satisfied: appdirs>=1.4.3 in /usr/local/lib/python3.10/dist-packages (from wandb) (1.4.4)\n",
            "Requirement already satisfied: protobuf!=4.21.0,<5,>=3.19.0 in /usr/local/lib/python3.10/dist-packages (from wandb) (3.20.3)\n",
            "Requirement already satisfied: six>=1.4.0 in /usr/local/lib/python3.10/dist-packages (from docker-pycreds>=0.4.0->wandb) (1.16.0)\n",
            "Collecting gitdb<5,>=4.0.1 (from GitPython!=3.1.29,>=1.0.0->wandb)\n",
            "  Downloading gitdb-4.0.11-py3-none-any.whl (62 kB)\n",
            "\u001b[2K     \u001b[90m━━━━━━━━━━━━━━━━━━━━━━━━━━━━━━━━━━━━━━━━\u001b[0m \u001b[32m62.7/62.7 kB\u001b[0m \u001b[31m9.0 MB/s\u001b[0m eta \u001b[36m0:00:00\u001b[0m\n",
            "\u001b[?25hRequirement already satisfied: charset-normalizer<4,>=2 in /usr/local/lib/python3.10/dist-packages (from requests<3,>=2.0.0->wandb) (3.3.2)\n",
            "Requirement already satisfied: idna<4,>=2.5 in /usr/local/lib/python3.10/dist-packages (from requests<3,>=2.0.0->wandb) (3.6)\n",
            "Requirement already satisfied: urllib3<3,>=1.21.1 in /usr/local/lib/python3.10/dist-packages (from requests<3,>=2.0.0->wandb) (2.0.7)\n",
            "Requirement already satisfied: certifi>=2017.4.17 in /usr/local/lib/python3.10/dist-packages (from requests<3,>=2.0.0->wandb) (2023.11.17)\n",
            "Collecting smmap<6,>=3.0.1 (from gitdb<5,>=4.0.1->GitPython!=3.1.29,>=1.0.0->wandb)\n",
            "  Downloading smmap-5.0.1-py3-none-any.whl (24 kB)\n",
            "Installing collected packages: smmap, setproctitle, sentry-sdk, docker-pycreds, gitdb, GitPython, wandb\n",
            "Successfully installed GitPython-3.1.40 docker-pycreds-0.4.0 gitdb-4.0.11 sentry-sdk-1.39.1 setproctitle-1.3.3 smmap-5.0.1 wandb-0.16.1\n"
          ]
        }
      ],
      "source": [
        "!pip install wandb"
      ]
    },
    {
      "cell_type": "code",
      "execution_count": 2,
      "metadata": {
        "id": "MGEqdP8ZsDUN"
      },
      "outputs": [],
      "source": [
        "import torch\n",
        "from torch import nn, optim\n",
        "import numpy as np\n",
        "from torchvision import transforms\n",
        "from torch.utils.data import DataLoader, Dataset\n",
        "import os\n",
        "from PIL import Image\n",
        "from torch.utils.data import random_split\n",
        "from torchvision import transforms as T\n",
        "from torch.autograd import Variable\n",
        "import torch.nn.functional as F\n",
        "import wandb\n",
        "import IPython"
      ]
    },
    {
      "cell_type": "code",
      "execution_count": 3,
      "metadata": {
        "colab": {
          "base_uri": "https://localhost:8080/"
        },
        "id": "Vw1mWbk0QajX",
        "outputId": "2e3ad467-d557-434f-c427-b95416088ecf"
      },
      "outputs": [
        {
          "name": "stderr",
          "output_type": "stream",
          "text": [
            "\u001b[34m\u001b[1mwandb\u001b[0m: W&B API key is configured. Use \u001b[1m`wandb login --relogin`\u001b[0m to force relogin\n",
            "\u001b[34m\u001b[1mwandb\u001b[0m: \u001b[33mWARNING\u001b[0m If you're specifying your api key in code, ensure this code is not shared publicly.\n",
            "\u001b[34m\u001b[1mwandb\u001b[0m: \u001b[33mWARNING\u001b[0m Consider setting the WANDB_API_KEY environment variable, or running `wandb login` from the command line.\n",
            "\u001b[34m\u001b[1mwandb\u001b[0m: Appending key for api.wandb.ai to your netrc file: /root/.netrc\n"
          ]
        },
        {
          "data": {
            "text/plain": [
              "True"
            ]
          },
          "execution_count": 3,
          "metadata": {},
          "output_type": "execute_result"
        }
      ],
      "source": [
        "wandb.login(key='f63f6bf237335da137544dff247f145d2db7f47a')"
      ]
    },
    {
      "cell_type": "markdown",
      "metadata": {
        "id": "sgJKoh50j3XF"
      },
      "source": [
        "## Downloading dataset"
      ]
    },
    {
      "cell_type": "markdown",
      "metadata": {
        "id": "JWW9K4rAj_5w"
      },
      "source": [
        "Here is the code to download and decompress the BreaKHis dataset. This code is written for the google colab environment and you may need to modify it for running on other devices."
      ]
    },
    {
      "cell_type": "markdown",
      "metadata": {
        "id": "SQ6fFnhfmOTQ"
      },
      "source": [
        "Link to the dataset's website:\n",
        "\n",
        "https://web.inf.ufpr.br/vri/databases/breast-cancer-histopathological-database-breakhis/"
      ]
    },
    {
      "cell_type": "code",
      "execution_count": 62,
      "metadata": {
        "colab": {
          "base_uri": "https://localhost:8080/"
        },
        "id": "kjL8Nyjbf8p9",
        "outputId": "63b90c48-d35d-4940-d29e-61472a64d808"
      },
      "outputs": [
        {
          "name": "stdout",
          "output_type": "stream",
          "text": [
            "--2023-12-26 14:08:32--  http://www.inf.ufpr.br/vri/databases/BreaKHis_v1.tar.gz\n",
            "Resolving www.inf.ufpr.br (www.inf.ufpr.br)... 200.17.202.113, 2801:82:80ff:8001:216:ccff:feaa:79\n",
            "Connecting to www.inf.ufpr.br (www.inf.ufpr.br)|200.17.202.113|:80... connected.\n",
            "HTTP request sent, awaiting response... 301 Moved Permanently\n",
            "Location: https://www.inf.ufpr.br/vri/databases/BreaKHis_v1.tar.gz [following]\n",
            "--2023-12-26 14:08:34--  https://www.inf.ufpr.br/vri/databases/BreaKHis_v1.tar.gz\n",
            "Connecting to www.inf.ufpr.br (www.inf.ufpr.br)|200.17.202.113|:443... connected.\n",
            "HTTP request sent, awaiting response... 200 OK\n",
            "Length: 4273561758 (4.0G) [application/octet-stream]\n",
            "Saving to: ‘/content/BreaKHis_v1.tar.gz’\n",
            "\n",
            "/content/BreaKHis_v 100%[===================>]   3.98G  9.19MB/s    in 7m 38s  \n",
            "\n",
            "2023-12-26 14:16:14 (8.90 MB/s) - ‘/content/BreaKHis_v1.tar.gz’ saved [4273561758/4273561758]\n",
            "\n"
          ]
        }
      ],
      "source": [
        "!wget http://www.inf.ufpr.br/vri/databases/BreaKHis_v1.tar.gz -O /content/BreaKHis_v1.tar.gz"
      ]
    },
    {
      "cell_type": "code",
      "execution_count": 63,
      "metadata": {
        "id": "8xDYIqkigjyU"
      },
      "outputs": [],
      "source": [
        "!tar xzf /content/BreaKHis_v1.tar.gz -C /content"
      ]
    },
    {
      "cell_type": "markdown",
      "metadata": {
        "id": "xwSYOh2nlKx6"
      },
      "source": [
        "## Data Preparation (35 points)"
      ]
    },
    {
      "cell_type": "markdown",
      "metadata": {
        "id": "Fn7TF-kIprVl"
      },
      "source": [
        "In this section, you will implement several things:\n",
        "\n",
        "- A custom pytorch Dataset for our data. You can use the current decompressed folder or change the structure to make it easier to work with.\n",
        "- Transformations to perform on data (You must first do the patch extraction, then apply the transformations on every patch.)\n",
        "- Patch extraction code (you can also implement it in the following sections)\n",
        "- Dataloaders (instead of 80-20 split for train-test sets from the paper, you should use 80-5-15 split for train-val-test sets here and save best model w.r.t. the validation loss)"
      ]
    },
    {
      "cell_type": "code",
      "execution_count": 75,
      "metadata": {
        "id": "vTF8wDQmzQcL"
      },
      "outputs": [],
      "source": [
        "data_path = '/content/BreaKHis_v1/histology_slides/breast'\n",
        "\n",
        "classes = ['benign', 'malignant']\n",
        "magnifications = [\"40X\", \"100X\", \"200X\", \"400X\"]\n",
        "\n",
        "data = {\n",
        "    x: [] for x in magnifications\n",
        "}\n",
        "\n",
        "for _class in classes:\n",
        "    class_path = os.path.join(data_path, _class, 'SOB')\n",
        "\n",
        "    for status in os.listdir(class_path):\n",
        "        status_path = os.path.join(class_path, status)\n",
        "\n",
        "        for sample in os.listdir(status_path):\n",
        "            sample_path = os.path.join(status_path, sample)\n",
        "\n",
        "            for magnification in os.listdir(sample_path):\n",
        "                magnification_path = os.path.join(sample_path, magnification)\n",
        "\n",
        "                for patch in os.listdir(magnification_path):\n",
        "                    image_path = os.path.join(magnification_path, patch)\n",
        "                    if _class == 'benign':\n",
        "                      data[magnification].append([image_path, 0])\n",
        "                    else: # malignant\n",
        "                      data[magnification].append([image_path, 1])"
      ]
    },
    {
      "cell_type": "code",
      "execution_count": 76,
      "metadata": {
        "colab": {
          "base_uri": "https://localhost:8080/"
        },
        "id": "KcVl3ZL-1yMG",
        "outputId": "028b896a-4a5b-468a-ff0e-557873947df6"
      },
      "outputs": [
        {
          "name": "stdout",
          "output_type": "stream",
          "text": [
            "dict_keys(['40X', '100X', '200X', '400X'])\n"
          ]
        }
      ],
      "source": [
        "print(data.keys())"
      ]
    },
    {
      "cell_type": "code",
      "execution_count": 77,
      "metadata": {
        "id": "bc-UHR4TiPxd"
      },
      "outputs": [],
      "source": [
        "# Implement the custom dataset here (15 points)\n",
        "class CustomBreaKHis(Dataset):\n",
        "    def __init__(self, data, magn, transform=None):\n",
        "      self.data = np.array(data)\n",
        "      self.magnification = magn\n",
        "      self.transform = transform\n",
        "\n",
        "    def __len__(self):\n",
        "      return self.data.shape[0]\n",
        "\n",
        "    def __getitem__(self, index):\n",
        "      image_path, label = self.data[index]\n",
        "\n",
        "      image = Image.open(image_path)\n",
        "\n",
        "      # patch extraction section\n",
        "      crop = T.Compose([T.CenterCrop((448,700))])\n",
        "      image = np.array(crop(image))\n",
        "\n",
        "      patch_list = []\n",
        "      patch_size = 28\n",
        "      rows, cols, _ = image.shape\n",
        "      for i in range(0, rows, patch_size):\n",
        "          for j in range(0, cols, patch_size):\n",
        "              patch_list.append(self.transform(image[i:i+patch_size, j:j+patch_size, :]))\n",
        "\n",
        "      # Convert the list of patches to a tuple\n",
        "      patch_tuple = tuple(patch_list)\n",
        "\n",
        "      # Stack the patches using torch\n",
        "      stacked_patches = torch.stack(patch_tuple, 0)\n",
        "\n",
        "      label = torch.from_numpy(np.array(label, dtype=int))\n",
        "\n",
        "      return stacked_patches, label"
      ]
    },
    {
      "cell_type": "code",
      "execution_count": 78,
      "metadata": {
        "id": "AVM3hBd4LSsD"
      },
      "outputs": [],
      "source": [
        "# Implement the transforms here (5 points)\n",
        "# all transforms in paper\n",
        "toPIL = T.Compose([\n",
        "    T.ToPILImage()\n",
        "])\n",
        "crop = T.Compose([T.CenterCrop((448,700))])\n",
        "\n",
        "transformers = [\n",
        "    T.functional.vflip,\n",
        "    T.functional.hflip,\n",
        "    T.RandomRotation((90, 90)),\n",
        "    T.RandomRotation((180, 180)),\n",
        "    T.RandomRotation((270, 270))\n",
        "]\n",
        "augmentation = T.RandomApply([T.RandomChoice(transformers)], p=0.5)\n",
        "\n",
        "transforms = T.Compose([\n",
        "    T.ToTensor(),\n",
        "])"
      ]
    },
    {
      "cell_type": "code",
      "execution_count": 79,
      "metadata": {
        "id": "7uqiQzQ8RB4w"
      },
      "outputs": [],
      "source": [
        "# Create dataloaders here (5 points)\n",
        "magnifications = [\"40X\", \"100X\", \"200X\", \"400X\"]\n",
        "\n",
        "dataset = { x: {} for x in magnifications }\n",
        "\n",
        "# torch.manual_seed(7)\n",
        "for magn in magnifications:\n",
        "  ds = CustomBreaKHis(data[magn], magn, transform=transforms)\n",
        "  dataset[magn]['train'], dataset[magn]['valid'], dataset[magn]['test'] = random_split(ds, [0.8, 0.05, 0.15])\n",
        "\n",
        "\n",
        "dataloader = { x: {} for x in magnifications }\n",
        "\n",
        "for magn in magnifications:\n",
        "  for phase in ['train', 'valid', 'test']:\n",
        "    if phase == 'train':\n",
        "      dataloader[magn][phase] =  DataLoader(dataset[magn][phase], shuffle=True, batch_size=1)\n",
        "    else:\n",
        "      dataloader[magn][phase] =  DataLoader(dataset[magn][phase], shuffle=False, batch_size=1)"
      ]
    },
    {
      "cell_type": "code",
      "execution_count": 80,
      "metadata": {
        "id": "okFoJzT97fAl"
      },
      "outputs": [],
      "source": [
        "# Implement patch extraction here (10 points)\n",
        "# If you are going to implement it somewhere else, please comment it here.\n",
        "\n",
        "# *** patch extraction is implemented in custom dataset"
      ]
    },
    {
      "cell_type": "markdown",
      "metadata": {
        "id": "5RX02sSeLblU"
      },
      "source": [
        "## Model Implementation (25 points)"
      ]
    },
    {
      "cell_type": "markdown",
      "metadata": {
        "id": "-a34eqHzLkB2"
      },
      "source": [
        "Here, you have to implement the proposed architecture in the paper. The only point is that in the last part of the model, instead of a \"dense+softmax\" you should implement a \"dense+sigmoid\"."
      ]
    },
    {
      "cell_type": "code",
      "execution_count": 12,
      "metadata": {
        "id": "MGC-Hwdfygoz"
      },
      "outputs": [],
      "source": [
        "# Implement the model here (25 points)\n",
        "\n",
        "class Attention(nn.Module):\n",
        "    def __init__(self):\n",
        "        super(Attention, self).__init__()\n",
        "        self.L = 500\n",
        "        self.D = 128\n",
        "        self.K = 1\n",
        "\n",
        "        self.feature_extractor_part1 = nn.Sequential(\n",
        "            nn.Conv2d(3, 20, kernel_size=5),\n",
        "            nn.ReLU(),\n",
        "            nn.MaxPool2d(2, stride=2),\n",
        "            nn.Conv2d(20, 50, kernel_size=5),\n",
        "            nn.ReLU(),\n",
        "            nn.MaxPool2d(2, stride=2)\n",
        "        )\n",
        "\n",
        "        self.feature_extractor_part2 = nn.Sequential(\n",
        "            nn.Linear(50 * 4 * 4, self.L),\n",
        "            nn.ReLU(),\n",
        "        )\n",
        "\n",
        "        self.attention = nn.Sequential(\n",
        "            nn.Linear(self.L, self.D),\n",
        "            nn.Tanh(),\n",
        "            nn.Linear(self.D, self.K)\n",
        "        )\n",
        "\n",
        "        self.classifier = nn.Sequential(\n",
        "            nn.Linear(self.L*self.K, 1),\n",
        "            nn.Sigmoid()\n",
        "        )\n",
        "\n",
        "    def forward(self, x):\n",
        "\n",
        "        x = x.squeeze(0)\n",
        "\n",
        "        H = self.feature_extractor_part1(x)\n",
        "        H = H.view(-1, 50 * 4 * 4)\n",
        "        H = self.feature_extractor_part2(H)  # NxL\n",
        "\n",
        "        A = self.attention(H)  # NxK\n",
        "        A = torch.transpose(A, 1, 0)  # KxN\n",
        "        A = F.softmax(A, dim=1)  # softmax over N\n",
        "\n",
        "        M = torch.mm(A, H)  # KxL\n",
        "\n",
        "        Y_prob = self.classifier(M)\n",
        "        Y_hat = torch.ge(Y_prob, 0.5).float()\n",
        "\n",
        "        return Y_prob, Y_hat, A\n",
        "\n",
        "    # AUXILIARY METHODS\n",
        "    def calculate_classification_error(self, X, Y):\n",
        "        Y = Y.float()\n",
        "        _, Y_hat, _ = self.forward(X)\n",
        "        error = 1. - Y_hat.eq(Y).cpu().float().mean().item()\n",
        "\n",
        "        return error, Y_hat\n",
        "\n",
        "    def calculate_objective(self, X, Y):\n",
        "        Y = Y.float()\n",
        "        Y_prob, _, A = self.forward(X)\n",
        "        Y_prob = torch.clamp(Y_prob, min=1e-5, max=1. - 1e-5)\n",
        "        neg_log_likelihood = -1. * (Y * torch.log(Y_prob) + (1. - Y) * torch.log(1. - Y_prob))  # negative log bernoulli\n",
        "\n",
        "        return neg_log_likelihood, A"
      ]
    },
    {
      "cell_type": "markdown",
      "metadata": {
        "id": "CGvECwd-NGJ4"
      },
      "source": [
        "## Training (32 points)"
      ]
    },
    {
      "cell_type": "markdown",
      "metadata": {
        "id": "-h03lnx3NJoF"
      },
      "source": [
        "In this section, you will implement the training method and use it to train the model for every magnification. The model has to be trained for at least 60 epochs. But, in every epoch, we use 200 mini-batches to train the model instead of the whole training data, which means with a batch size of one, we use 200 images for training the model in every epoch. With this method, we spend less training time but actually, iterate whole data several times. (You have to make sure that the train loader will get shuffled correctly every epoch)\n",
        "\n",
        "You should save loss and accuracy per epoch for training and validation sets. Then, you must plot the loss and accuracy of every magnification, which is crucial for scoring this assignment.\n",
        "\n",
        "Hint: Training the model for one epoch takes around 7 seconds on the Google Colab environment. You have to train every model for at least 60 epochs, but longer training time can result in higher accuracies.\n",
        "\n",
        "Note: You are not expected to achieve the exact accuracies reported in the paper for getting the full score. A correct implementation and sufficient training epochs receive the total score for this assignment."
      ]
    },
    {
      "cell_type": "markdown",
      "metadata": {
        "id": "qxnntH_vPpJ6"
      },
      "source": [
        "**Configs**"
      ]
    },
    {
      "cell_type": "code",
      "execution_count": 95,
      "metadata": {
        "id": "jA2rmBJwzQeG"
      },
      "outputs": [],
      "source": [
        "# Implement the training method here (20 points)\n",
        "max_steps = 200\n",
        "\n",
        "def train_one_epoch(loader):\n",
        "    model.train()\n",
        "    running_loss = 0.0\n",
        "    running_error = 0\n",
        "    correct_label_pred = 0\n",
        "    for batch_num, (data, label) in enumerate(loader):\n",
        "        if batch_num > max_steps:\n",
        "            break\n",
        "\n",
        "        bag_label = label[0]\n",
        "        data, bag_label = data.to(device), bag_label.to(device)\n",
        "        data, bag_label = Variable(data), Variable(bag_label)\n",
        "        data = data.squeeze(0)\n",
        "\n",
        "        optimizer.zero_grad()\n",
        "\n",
        "        # calculate loss and metrics\n",
        "        loss, _ = model.calculate_objective(data, bag_label)\n",
        "        running_loss += loss.data[0]\n",
        "        error, predicted_label_train = model.calculate_classification_error(data, bag_label)\n",
        "        running_error += error\n",
        "\n",
        "        correct_label_pred += (int(bag_label) == int(predicted_label_train))\n",
        "\n",
        "        loss.backward()\n",
        "        optimizer.step()\n",
        "\n",
        "\n",
        "    running_loss /= max_steps\n",
        "    running_error /= max_steps\n",
        "    acc = correct_label_pred / max_steps #(1 - running_error)\n",
        "\n",
        "    return running_loss, running_error, acc\n",
        "\n",
        "def validate_one_epoch(loader):\n",
        "    model.eval()\n",
        "\n",
        "    running_loss = 0.0\n",
        "    running_error = 0\n",
        "    correct_label_pred = 0\n",
        "    for batch_num, (data, label) in enumerate(loader):\n",
        "\n",
        "        bag_label = label[0]\n",
        "        data, bag_label = data.to(device), bag_label.to(device)\n",
        "        data, bag_label = Variable(data), Variable(bag_label)\n",
        "        data = data.squeeze(0)\n",
        "\n",
        "        # calculate loss and metrics\n",
        "        loss, attention_weights = model.calculate_objective(data, bag_label)\n",
        "        running_loss += loss.data[0]\n",
        "        error, predicted_label = model.calculate_classification_error(data, bag_label)\n",
        "        running_error += error\n",
        "\n",
        "        correct_label_pred += (int(bag_label) == int(predicted_label))\n",
        "\n",
        "    running_loss /= len(loader)\n",
        "    running_error /= len(loader)\n",
        "    acc = correct_label_pred / len(loader) #(1 - running_error)\n",
        "\n",
        "    return running_loss, running_error, acc\n",
        "\n",
        "\n",
        "def train(dataloader):\n",
        "    # To-Do\n",
        "    best_val_loss = float('inf')\n",
        "\n",
        "    for epoch in range(epochs):\n",
        "      train_loss, train_error, train_acc = train_one_epoch(dataloader['train'])\n",
        "      val_loss, val_error, val_acc = validate_one_epoch(dataloader['valid'])\n",
        "\n",
        "      wandb.log({\"train_loss\": train_loss, \"train_acc\": train_acc, \"val_loss\": val_loss, \"val_acc\": val_acc})\n",
        "\n",
        "      if val_loss < best_val_loss:\n",
        "        best_val_loss = val_loss\n",
        "        torch.save(model, model_path)\n",
        "        torch.save(model.state_dict(), model_path[:-3]+'.pth')\n",
        "\n",
        "\n",
        "      print(f'Epoch [{epoch+1}/{epochs}] - '\n",
        "              f'Train Loss: {train_loss.item():.4f} - '\n",
        "              f'Train Accuracy: {train_acc:.4f} - '\n",
        "              f'Validation Loss: {val_loss.item():.4f} - '\n",
        "              f'Validation Accuracy {val_acc:.4f}%')\n"
      ]
    },
    {
      "cell_type": "code",
      "execution_count": 91,
      "metadata": {
        "id": "19d5-hdXL_OR"
      },
      "outputs": [],
      "source": [
        "device = torch.device('cuda' if torch.cuda.is_available() else 'cpu')\n",
        "\n",
        "model = Attention()\n",
        "model.to(device)\n",
        "\n",
        "lr = 10e-5\n",
        "optimizer = optim.Adam(model.parameters(), lr=lr, betas=(0.9, 0.999), weight_decay=10e-5)"
      ]
    },
    {
      "cell_type": "code",
      "execution_count": 92,
      "metadata": {
        "colab": {
          "base_uri": "https://localhost:8080/",
          "height": 1000,
          "referenced_widgets": [
            "c44a0c4e21d7466aa231ca5eb4e512c8",
            "4b2c219866cc4a368252decaa3d3dbad",
            "3d245737519c47279135bf23a7a964cb",
            "6a7e641d489840aa9d11098cf100754f",
            "48496d01280e44e9accfd5659f00dcf9",
            "fb9d90a92a2f4e9faa39277abe3b3ba7",
            "9e5b47b895ad43b88abe8752435e7bcd",
            "a35f688a409a4c9da47edf8d88d0cc41"
          ]
        },
        "id": "kfaes8urbz5f",
        "outputId": "f9f6ac21-d8db-4e6b-d8e8-1c92d747bb82"
      },
      "outputs": [
        {
          "data": {
            "text/html": [
              "Finishing last run (ID:0vmvi74u) before initializing another..."
            ],
            "text/plain": [
              "<IPython.core.display.HTML object>"
            ]
          },
          "metadata": {},
          "output_type": "display_data"
        },
        {
          "data": {
            "application/vnd.jupyter.widget-view+json": {
              "model_id": "c44a0c4e21d7466aa231ca5eb4e512c8",
              "version_major": 2,
              "version_minor": 0
            },
            "text/plain": [
              "VBox(children=(Label(value='0.001 MB of 0.011 MB uploaded\\r'), FloatProgress(value=0.11035791757049891, max=1.…"
            ]
          },
          "metadata": {},
          "output_type": "display_data"
        },
        {
          "data": {
            "text/html": [
              "<style>\n",
              "    table.wandb td:nth-child(1) { padding: 0 10px; text-align: left ; width: auto;} td:nth-child(2) {text-align: left ; width: 100%}\n",
              "    .wandb-row { display: flex; flex-direction: row; flex-wrap: wrap; justify-content: flex-start; width: 100% }\n",
              "    .wandb-col { display: flex; flex-direction: column; flex-basis: 100%; flex: 1; padding: 10px; }\n",
              "    </style>\n",
              "<div class=\"wandb-row\"><div class=\"wandb-col\"><h3>Run history:</h3><br/><table class=\"wandb\"><tr><td>train_acc</td><td>▁▃██</td></tr><tr><td>train_loss</td><td>█▅▁▁</td></tr><tr><td>val_acc</td><td>▁▁▁▁</td></tr><tr><td>val_loss</td><td>▁▁▁▁</td></tr></table><br/></div><div class=\"wandb-col\"><h3>Run summary:</h3><br/><table class=\"wandb\"><tr><td>train_acc</td><td>0.865</td></tr><tr><td>train_loss</td><td>0.38001</td></tr><tr><td>val_acc</td><td>0.86869</td></tr><tr><td>val_loss</td><td>0.35247</td></tr></table><br/></div></div>"
            ],
            "text/plain": [
              "<IPython.core.display.HTML object>"
            ]
          },
          "metadata": {},
          "output_type": "display_data"
        },
        {
          "data": {
            "text/html": [
              " View run <strong style=\"color:#cdcd00\">100X</strong> at: <a href='https://wandb.ai/amirezzati/MIL/runs/0vmvi74u' target=\"_blank\">https://wandb.ai/amirezzati/MIL/runs/0vmvi74u</a><br/>Synced 5 W&B file(s), 0 media file(s), 0 artifact file(s) and 0 other file(s)"
            ],
            "text/plain": [
              "<IPython.core.display.HTML object>"
            ]
          },
          "metadata": {},
          "output_type": "display_data"
        },
        {
          "data": {
            "text/html": [
              "Find logs at: <code>./wandb/run-20231226_151158-0vmvi74u/logs</code>"
            ],
            "text/plain": [
              "<IPython.core.display.HTML object>"
            ]
          },
          "metadata": {},
          "output_type": "display_data"
        },
        {
          "data": {
            "text/html": [
              "Successfully finished last run (ID:0vmvi74u). Initializing new run:<br/>"
            ],
            "text/plain": [
              "<IPython.core.display.HTML object>"
            ]
          },
          "metadata": {},
          "output_type": "display_data"
        },
        {
          "data": {
            "text/html": [
              "Tracking run with wandb version 0.16.1"
            ],
            "text/plain": [
              "<IPython.core.display.HTML object>"
            ]
          },
          "metadata": {},
          "output_type": "display_data"
        },
        {
          "data": {
            "text/html": [
              "Run data is saved locally in <code>/content/wandb/run-20231226_151336-3j7306bs</code>"
            ],
            "text/plain": [
              "<IPython.core.display.HTML object>"
            ]
          },
          "metadata": {},
          "output_type": "display_data"
        },
        {
          "data": {
            "text/html": [
              "Syncing run <strong><a href='https://wandb.ai/amirezzati/MIL/runs/3j7306bs' target=\"_blank\">40X</a></strong> to <a href='https://wandb.ai/amirezzati/MIL' target=\"_blank\">Weights & Biases</a> (<a href='https://wandb.me/run' target=\"_blank\">docs</a>)<br/>"
            ],
            "text/plain": [
              "<IPython.core.display.HTML object>"
            ]
          },
          "metadata": {},
          "output_type": "display_data"
        },
        {
          "data": {
            "text/html": [
              " View project at <a href='https://wandb.ai/amirezzati/MIL' target=\"_blank\">https://wandb.ai/amirezzati/MIL</a>"
            ],
            "text/plain": [
              "<IPython.core.display.HTML object>"
            ]
          },
          "metadata": {},
          "output_type": "display_data"
        },
        {
          "data": {
            "text/html": [
              " View run at <a href='https://wandb.ai/amirezzati/MIL/runs/3j7306bs' target=\"_blank\">https://wandb.ai/amirezzati/MIL/runs/3j7306bs</a>"
            ],
            "text/plain": [
              "<IPython.core.display.HTML object>"
            ]
          },
          "metadata": {},
          "output_type": "display_data"
        },
        {
          "name": "stdout",
          "output_type": "stream",
          "text": [
            "Epoch [1/60] - Train Loss: 0.6590 - Train Accuracy: 0.6450 - Validation Loss: 0.6001 - Validation Accuracy 0.7172%\n",
            "Epoch [2/60] - Train Loss: 0.6035 - Train Accuracy: 0.7100 - Validation Loss: 0.6254 - Validation Accuracy 0.7172%\n",
            "Epoch [3/60] - Train Loss: 0.6759 - Train Accuracy: 0.6350 - Validation Loss: 0.6297 - Validation Accuracy 0.7273%\n",
            "Epoch [4/60] - Train Loss: 0.6038 - Train Accuracy: 0.7100 - Validation Loss: 0.5933 - Validation Accuracy 0.7172%\n",
            "Epoch [5/60] - Train Loss: 0.6084 - Train Accuracy: 0.7050 - Validation Loss: 0.5582 - Validation Accuracy 0.7172%\n",
            "Epoch [6/60] - Train Loss: 0.5646 - Train Accuracy: 0.7300 - Validation Loss: 0.5922 - Validation Accuracy 0.7172%\n",
            "Epoch [7/60] - Train Loss: 0.6066 - Train Accuracy: 0.7150 - Validation Loss: 0.5421 - Validation Accuracy 0.7172%\n",
            "Epoch [8/60] - Train Loss: 0.6152 - Train Accuracy: 0.6850 - Validation Loss: 0.5540 - Validation Accuracy 0.7172%\n",
            "Epoch [9/60] - Train Loss: 0.5606 - Train Accuracy: 0.6950 - Validation Loss: 0.4803 - Validation Accuracy 0.8081%\n",
            "Epoch [10/60] - Train Loss: 0.5384 - Train Accuracy: 0.7450 - Validation Loss: 0.4513 - Validation Accuracy 0.8384%\n",
            "Epoch [11/60] - Train Loss: 0.5359 - Train Accuracy: 0.7500 - Validation Loss: 0.4608 - Validation Accuracy 0.8081%\n",
            "Epoch [12/60] - Train Loss: 0.5047 - Train Accuracy: 0.7500 - Validation Loss: 0.5387 - Validation Accuracy 0.7172%\n",
            "Epoch [13/60] - Train Loss: 0.5752 - Train Accuracy: 0.7600 - Validation Loss: 0.4489 - Validation Accuracy 0.7980%\n",
            "Epoch [14/60] - Train Loss: 0.5412 - Train Accuracy: 0.7400 - Validation Loss: 0.4492 - Validation Accuracy 0.8182%\n",
            "Epoch [15/60] - Train Loss: 0.4951 - Train Accuracy: 0.8000 - Validation Loss: 0.5370 - Validation Accuracy 0.7273%\n",
            "Epoch [16/60] - Train Loss: 0.4558 - Train Accuracy: 0.8100 - Validation Loss: 0.4197 - Validation Accuracy 0.8283%\n",
            "Epoch [17/60] - Train Loss: 0.5245 - Train Accuracy: 0.7850 - Validation Loss: 0.4366 - Validation Accuracy 0.7980%\n",
            "Epoch [18/60] - Train Loss: 0.4951 - Train Accuracy: 0.8050 - Validation Loss: 0.4194 - Validation Accuracy 0.8182%\n",
            "Epoch [19/60] - Train Loss: 0.5383 - Train Accuracy: 0.7550 - Validation Loss: 0.4326 - Validation Accuracy 0.8586%\n",
            "Epoch [20/60] - Train Loss: 0.4857 - Train Accuracy: 0.7950 - Validation Loss: 0.4361 - Validation Accuracy 0.7879%\n",
            "Epoch [21/60] - Train Loss: 0.4610 - Train Accuracy: 0.7900 - Validation Loss: 0.4222 - Validation Accuracy 0.7980%\n",
            "Epoch [22/60] - Train Loss: 0.4298 - Train Accuracy: 0.8300 - Validation Loss: 0.4128 - Validation Accuracy 0.8182%\n",
            "Epoch [23/60] - Train Loss: 0.5680 - Train Accuracy: 0.7200 - Validation Loss: 0.4320 - Validation Accuracy 0.8384%\n",
            "Epoch [24/60] - Train Loss: 0.4747 - Train Accuracy: 0.8250 - Validation Loss: 0.4226 - Validation Accuracy 0.8182%\n",
            "Epoch [25/60] - Train Loss: 0.5101 - Train Accuracy: 0.8100 - Validation Loss: 0.4411 - Validation Accuracy 0.7879%\n",
            "Epoch [26/60] - Train Loss: 0.4693 - Train Accuracy: 0.8000 - Validation Loss: 0.4267 - Validation Accuracy 0.7879%\n",
            "Epoch [27/60] - Train Loss: 0.5133 - Train Accuracy: 0.7600 - Validation Loss: 0.4212 - Validation Accuracy 0.8182%\n",
            "Epoch [28/60] - Train Loss: 0.5176 - Train Accuracy: 0.7800 - Validation Loss: 0.4189 - Validation Accuracy 0.8182%\n",
            "Epoch [29/60] - Train Loss: 0.4650 - Train Accuracy: 0.8100 - Validation Loss: 0.4104 - Validation Accuracy 0.8586%\n",
            "Epoch [30/60] - Train Loss: 0.4942 - Train Accuracy: 0.7600 - Validation Loss: 0.4203 - Validation Accuracy 0.8687%\n",
            "Epoch [31/60] - Train Loss: 0.5509 - Train Accuracy: 0.7700 - Validation Loss: 0.4334 - Validation Accuracy 0.7879%\n",
            "Epoch [32/60] - Train Loss: 0.4735 - Train Accuracy: 0.8250 - Validation Loss: 0.4141 - Validation Accuracy 0.8687%\n",
            "Epoch [33/60] - Train Loss: 0.4430 - Train Accuracy: 0.8150 - Validation Loss: 0.4015 - Validation Accuracy 0.8586%\n",
            "Epoch [34/60] - Train Loss: 0.5123 - Train Accuracy: 0.7800 - Validation Loss: 0.4114 - Validation Accuracy 0.8182%\n",
            "Epoch [35/60] - Train Loss: 0.4728 - Train Accuracy: 0.8100 - Validation Loss: 0.3983 - Validation Accuracy 0.8485%\n",
            "Epoch [36/60] - Train Loss: 0.5110 - Train Accuracy: 0.8050 - Validation Loss: 0.4350 - Validation Accuracy 0.8384%\n",
            "Epoch [37/60] - Train Loss: 0.5197 - Train Accuracy: 0.7750 - Validation Loss: 0.4518 - Validation Accuracy 0.8384%\n",
            "Epoch [38/60] - Train Loss: 0.5327 - Train Accuracy: 0.7600 - Validation Loss: 0.4516 - Validation Accuracy 0.8485%\n",
            "Epoch [39/60] - Train Loss: 0.4820 - Train Accuracy: 0.8050 - Validation Loss: 0.4489 - Validation Accuracy 0.7980%\n",
            "Epoch [40/60] - Train Loss: 0.4628 - Train Accuracy: 0.8250 - Validation Loss: 0.4039 - Validation Accuracy 0.7980%\n",
            "Epoch [41/60] - Train Loss: 0.4767 - Train Accuracy: 0.7950 - Validation Loss: 0.4489 - Validation Accuracy 0.7980%\n",
            "Epoch [42/60] - Train Loss: 0.4422 - Train Accuracy: 0.8100 - Validation Loss: 0.3910 - Validation Accuracy 0.8485%\n",
            "Epoch [43/60] - Train Loss: 0.4990 - Train Accuracy: 0.7850 - Validation Loss: 0.3909 - Validation Accuracy 0.8485%\n",
            "Epoch [44/60] - Train Loss: 0.5180 - Train Accuracy: 0.7750 - Validation Loss: 0.4114 - Validation Accuracy 0.8384%\n",
            "Epoch [45/60] - Train Loss: 0.4596 - Train Accuracy: 0.8100 - Validation Loss: 0.3904 - Validation Accuracy 0.8485%\n",
            "Epoch [46/60] - Train Loss: 0.4197 - Train Accuracy: 0.8300 - Validation Loss: 0.5440 - Validation Accuracy 0.7374%\n",
            "Epoch [47/60] - Train Loss: 0.5190 - Train Accuracy: 0.7700 - Validation Loss: 0.4076 - Validation Accuracy 0.8687%\n",
            "Epoch [48/60] - Train Loss: 0.4304 - Train Accuracy: 0.8200 - Validation Loss: 0.3730 - Validation Accuracy 0.8687%\n",
            "Epoch [49/60] - Train Loss: 0.4370 - Train Accuracy: 0.8250 - Validation Loss: 0.3849 - Validation Accuracy 0.8485%\n",
            "Epoch [50/60] - Train Loss: 0.4948 - Train Accuracy: 0.8100 - Validation Loss: 0.3658 - Validation Accuracy 0.8586%\n",
            "Epoch [51/60] - Train Loss: 0.4685 - Train Accuracy: 0.8150 - Validation Loss: 0.4591 - Validation Accuracy 0.7879%\n",
            "Epoch [52/60] - Train Loss: 0.4637 - Train Accuracy: 0.8100 - Validation Loss: 0.4032 - Validation Accuracy 0.8182%\n",
            "Epoch [53/60] - Train Loss: 0.4761 - Train Accuracy: 0.8000 - Validation Loss: 0.3813 - Validation Accuracy 0.8586%\n",
            "Epoch [54/60] - Train Loss: 0.4986 - Train Accuracy: 0.7950 - Validation Loss: 0.3983 - Validation Accuracy 0.8788%\n",
            "Epoch [55/60] - Train Loss: 0.5381 - Train Accuracy: 0.7700 - Validation Loss: 0.4085 - Validation Accuracy 0.8586%\n",
            "Epoch [56/60] - Train Loss: 0.4844 - Train Accuracy: 0.7850 - Validation Loss: 0.3984 - Validation Accuracy 0.8182%\n",
            "Epoch [57/60] - Train Loss: 0.5261 - Train Accuracy: 0.7650 - Validation Loss: 0.4140 - Validation Accuracy 0.8384%\n",
            "Epoch [58/60] - Train Loss: 0.4858 - Train Accuracy: 0.7900 - Validation Loss: 0.3850 - Validation Accuracy 0.8485%\n",
            "Epoch [59/60] - Train Loss: 0.4820 - Train Accuracy: 0.8250 - Validation Loss: 0.4268 - Validation Accuracy 0.8081%\n",
            "Epoch [60/60] - Train Loss: 0.4397 - Train Accuracy: 0.8400 - Validation Loss: 0.3828 - Validation Accuracy 0.8485%\n"
          ]
        }
      ],
      "source": [
        "# Train the model on the 40X data here (1 points)\n",
        "model_path = '/content/best_model_after40X.pt'\n",
        "epochs = 60\n",
        "magn = \"40X\"\n",
        "\n",
        "wandb.init(\n",
        "    # set the wandb project where this run will be logged\n",
        "    project=\"MIL\",\n",
        "\n",
        "    # track hyperparameters and run metadata\n",
        "    config={\n",
        "    \"learning_rate\": lr,\n",
        "    \"architecture\": \"Attention-based Deep Multiple Instance Learning\",\n",
        "    \"epochs\": epochs,\n",
        "    },\n",
        "    name=magn\n",
        ")\n",
        "\n",
        "train(dataloader[magn])"
      ]
    },
    {
      "cell_type": "code",
      "execution_count": 97,
      "metadata": {
        "colab": {
          "base_uri": "https://localhost:8080/",
          "height": 533
        },
        "id": "Dl2gxL7TOyAA",
        "outputId": "970051b0-009b-4739-fdb4-a51764dea88f"
      },
      "outputs": [
        {
          "data": {
            "text/html": [
              "<iframe src=\"https://api.wandb.ai/links/amirezzati/bjcqs568\" style=\"border:none;height:512px;width:1024px\">"
            ],
            "text/plain": [
              "<IPython.core.display.HTML object>"
            ]
          },
          "execution_count": 97,
          "metadata": {},
          "output_type": "execute_result"
        }
      ],
      "source": [
        "# Plot loss and accuracy per epoch for 40X here (2 points)\n",
        "# loss plot\n",
        "IPython.display.HTML('<iframe src=\"https://api.wandb.ai/links/amirezzati/bjcqs568\" style=\"border:none;height:512px;width:1024px\">')"
      ]
    },
    {
      "cell_type": "code",
      "execution_count": 98,
      "metadata": {
        "colab": {
          "base_uri": "https://localhost:8080/",
          "height": 533
        },
        "id": "Il3eKqy6nFK8",
        "outputId": "425c2390-e9b3-4ef3-c054-38c254d935a0"
      },
      "outputs": [
        {
          "data": {
            "text/html": [
              "<iframe src=\"https://api.wandb.ai/links/amirezzati/vk3z07p5\" style=\"border:none;height:512px;width:1024px\">"
            ],
            "text/plain": [
              "<IPython.core.display.HTML object>"
            ]
          },
          "execution_count": 98,
          "metadata": {},
          "output_type": "execute_result"
        }
      ],
      "source": [
        "# acc plot\n",
        "IPython.display.HTML('<iframe src=\"https://api.wandb.ai/links/amirezzati/vk3z07p5\" style=\"border:none;height:512px;width:1024px\">')"
      ]
    },
    {
      "cell_type": "code",
      "execution_count": 94,
      "metadata": {
        "colab": {
          "base_uri": "https://localhost:8080/",
          "height": 1000,
          "referenced_widgets": [
            "a8ed854ad867417f844bf15de8729b0e",
            "baed51a196034c079a954b6f3db24247",
            "f9d800540ae04f99b7d8542576f6bf1e",
            "a3c62e09ca844f5da06a51a25d666172",
            "d2e413919f8141d8839529bdb750deae",
            "a3dae12bb36d438ab9bb89ff9232bf55",
            "d8b1fb43218c4d9f8d23dae12ad64f9c",
            "3e0a3b0267024fc094f27689057d81dc"
          ]
        },
        "id": "YVXLM3NMJjDT",
        "outputId": "818545cb-b1e6-480b-8817-564569521056"
      },
      "outputs": [
        {
          "data": {
            "text/html": [
              "Finishing last run (ID:3j7306bs) before initializing another..."
            ],
            "text/plain": [
              "<IPython.core.display.HTML object>"
            ]
          },
          "metadata": {},
          "output_type": "display_data"
        },
        {
          "data": {
            "application/vnd.jupyter.widget-view+json": {
              "model_id": "a8ed854ad867417f844bf15de8729b0e",
              "version_major": 2,
              "version_minor": 0
            },
            "text/plain": [
              "VBox(children=(Label(value='0.001 MB of 0.001 MB uploaded\\r'), FloatProgress(value=1.0, max=1.0)))"
            ]
          },
          "metadata": {},
          "output_type": "display_data"
        },
        {
          "data": {
            "text/html": [
              "<style>\n",
              "    table.wandb td:nth-child(1) { padding: 0 10px; text-align: left ; width: auto;} td:nth-child(2) {text-align: left ; width: 100%}\n",
              "    .wandb-row { display: flex; flex-direction: row; flex-wrap: wrap; justify-content: flex-start; width: 100% }\n",
              "    .wandb-col { display: flex; flex-direction: column; flex-basis: 100%; flex: 1; padding: 10px; }\n",
              "    </style>\n",
              "<div class=\"wandb-row\"><div class=\"wandb-col\"><h3>Run history:</h3><br/><table class=\"wandb\"><tr><td>train_acc</td><td>▁▃▃▃▄▂▅▅▅▄▇▆▅▆█▄▇▇▆▇▅▇▆▇▆▅▇▆▆▆█▅▇▇▇▇▅▆▆█</td></tr><tr><td>train_loss</td><td>█▆▆▇▆▇▄▄▆▅▂▄▄▃▁▅▄▂▄▂▅▃▄▃▄▄▂▃▃▄▁▄▂▃▂▃▄▃▃▂</td></tr><tr><td>val_acc</td><td>▁▁▁▁▁▁▇▅▅▆▆▅█▄▆▇▄▄▆█▄█▆▇▇▇▅▅▇▇▂█▇█▆██▆▇▇</td></tr><tr><td>val_loss</td><td>▇█▇▆▆▆▃▄▃▃▂▃▃▃▂▃▃▃▂▂▃▂▂▂▃▃▂▃▂▂▆▂▂▁▂▁▂▂▂▁</td></tr></table><br/></div><div class=\"wandb-col\"><h3>Run summary:</h3><br/><table class=\"wandb\"><tr><td>train_acc</td><td>0.84</td></tr><tr><td>train_loss</td><td>0.43967</td></tr><tr><td>val_acc</td><td>0.84848</td></tr><tr><td>val_loss</td><td>0.38285</td></tr></table><br/></div></div>"
            ],
            "text/plain": [
              "<IPython.core.display.HTML object>"
            ]
          },
          "metadata": {},
          "output_type": "display_data"
        },
        {
          "data": {
            "text/html": [
              " View run <strong style=\"color:#cdcd00\">40X</strong> at: <a href='https://wandb.ai/amirezzati/MIL/runs/3j7306bs' target=\"_blank\">https://wandb.ai/amirezzati/MIL/runs/3j7306bs</a><br/>Synced 5 W&B file(s), 0 media file(s), 0 artifact file(s) and 0 other file(s)"
            ],
            "text/plain": [
              "<IPython.core.display.HTML object>"
            ]
          },
          "metadata": {},
          "output_type": "display_data"
        },
        {
          "data": {
            "text/html": [
              "Find logs at: <code>./wandb/run-20231226_151336-3j7306bs/logs</code>"
            ],
            "text/plain": [
              "<IPython.core.display.HTML object>"
            ]
          },
          "metadata": {},
          "output_type": "display_data"
        },
        {
          "data": {
            "text/html": [
              "Successfully finished last run (ID:3j7306bs). Initializing new run:<br/>"
            ],
            "text/plain": [
              "<IPython.core.display.HTML object>"
            ]
          },
          "metadata": {},
          "output_type": "display_data"
        },
        {
          "data": {
            "text/html": [
              "Tracking run with wandb version 0.16.1"
            ],
            "text/plain": [
              "<IPython.core.display.HTML object>"
            ]
          },
          "metadata": {},
          "output_type": "display_data"
        },
        {
          "data": {
            "text/html": [
              "Run data is saved locally in <code>/content/wandb/run-20231226_152802-l980ohin</code>"
            ],
            "text/plain": [
              "<IPython.core.display.HTML object>"
            ]
          },
          "metadata": {},
          "output_type": "display_data"
        },
        {
          "data": {
            "text/html": [
              "Syncing run <strong><a href='https://wandb.ai/amirezzati/MIL/runs/l980ohin' target=\"_blank\">100X</a></strong> to <a href='https://wandb.ai/amirezzati/MIL' target=\"_blank\">Weights & Biases</a> (<a href='https://wandb.me/run' target=\"_blank\">docs</a>)<br/>"
            ],
            "text/plain": [
              "<IPython.core.display.HTML object>"
            ]
          },
          "metadata": {},
          "output_type": "display_data"
        },
        {
          "data": {
            "text/html": [
              " View project at <a href='https://wandb.ai/amirezzati/MIL' target=\"_blank\">https://wandb.ai/amirezzati/MIL</a>"
            ],
            "text/plain": [
              "<IPython.core.display.HTML object>"
            ]
          },
          "metadata": {},
          "output_type": "display_data"
        },
        {
          "data": {
            "text/html": [
              " View run at <a href='https://wandb.ai/amirezzati/MIL/runs/l980ohin' target=\"_blank\">https://wandb.ai/amirezzati/MIL/runs/l980ohin</a>"
            ],
            "text/plain": [
              "<IPython.core.display.HTML object>"
            ]
          },
          "metadata": {},
          "output_type": "display_data"
        },
        {
          "name": "stdout",
          "output_type": "stream",
          "text": [
            "Epoch [1/60] - Train Loss: 0.4744 - Train Accuracy: 0.8050 - Validation Loss: 0.3121 - Validation Accuracy 0.9038%\n",
            "Epoch [2/60] - Train Loss: 0.4542 - Train Accuracy: 0.8100 - Validation Loss: 0.3286 - Validation Accuracy 0.8750%\n",
            "Epoch [3/60] - Train Loss: 0.4245 - Train Accuracy: 0.8250 - Validation Loss: 0.3751 - Validation Accuracy 0.8365%\n",
            "Epoch [4/60] - Train Loss: 0.4458 - Train Accuracy: 0.8200 - Validation Loss: 0.3233 - Validation Accuracy 0.8750%\n",
            "Epoch [5/60] - Train Loss: 0.4356 - Train Accuracy: 0.8450 - Validation Loss: 0.2737 - Validation Accuracy 0.9038%\n",
            "Epoch [6/60] - Train Loss: 0.4514 - Train Accuracy: 0.8250 - Validation Loss: 0.3022 - Validation Accuracy 0.8846%\n",
            "Epoch [7/60] - Train Loss: 0.4438 - Train Accuracy: 0.8300 - Validation Loss: 0.2847 - Validation Accuracy 0.9135%\n",
            "Epoch [8/60] - Train Loss: 0.4129 - Train Accuracy: 0.8500 - Validation Loss: 0.2942 - Validation Accuracy 0.8750%\n",
            "Epoch [9/60] - Train Loss: 0.4911 - Train Accuracy: 0.8150 - Validation Loss: 0.2929 - Validation Accuracy 0.9135%\n",
            "Epoch [10/60] - Train Loss: 0.3641 - Train Accuracy: 0.8800 - Validation Loss: 0.2720 - Validation Accuracy 0.8942%\n",
            "Epoch [11/60] - Train Loss: 0.3582 - Train Accuracy: 0.8800 - Validation Loss: 0.2846 - Validation Accuracy 0.9038%\n",
            "Epoch [12/60] - Train Loss: 0.4610 - Train Accuracy: 0.8200 - Validation Loss: 0.3297 - Validation Accuracy 0.8846%\n",
            "Epoch [13/60] - Train Loss: 0.4220 - Train Accuracy: 0.8250 - Validation Loss: 0.3282 - Validation Accuracy 0.8846%\n",
            "Epoch [14/60] - Train Loss: 0.4624 - Train Accuracy: 0.8300 - Validation Loss: 0.3021 - Validation Accuracy 0.9038%\n",
            "Epoch [15/60] - Train Loss: 0.4471 - Train Accuracy: 0.8200 - Validation Loss: 0.2978 - Validation Accuracy 0.9135%\n",
            "Epoch [16/60] - Train Loss: 0.3768 - Train Accuracy: 0.8750 - Validation Loss: 0.2668 - Validation Accuracy 0.9135%\n",
            "Epoch [17/60] - Train Loss: 0.4987 - Train Accuracy: 0.7750 - Validation Loss: 0.3349 - Validation Accuracy 0.8942%\n",
            "Epoch [18/60] - Train Loss: 0.3829 - Train Accuracy: 0.8550 - Validation Loss: 0.2740 - Validation Accuracy 0.9038%\n",
            "Epoch [19/60] - Train Loss: 0.4378 - Train Accuracy: 0.8300 - Validation Loss: 0.3825 - Validation Accuracy 0.8269%\n",
            "Epoch [20/60] - Train Loss: 0.3489 - Train Accuracy: 0.8600 - Validation Loss: 0.2666 - Validation Accuracy 0.8942%\n",
            "Epoch [21/60] - Train Loss: 0.4342 - Train Accuracy: 0.8200 - Validation Loss: 0.3052 - Validation Accuracy 0.8942%\n",
            "Epoch [22/60] - Train Loss: 0.3267 - Train Accuracy: 0.8750 - Validation Loss: 0.2860 - Validation Accuracy 0.9135%\n",
            "Epoch [23/60] - Train Loss: 0.4903 - Train Accuracy: 0.7900 - Validation Loss: 0.3002 - Validation Accuracy 0.8942%\n",
            "Epoch [24/60] - Train Loss: 0.3257 - Train Accuracy: 0.8650 - Validation Loss: 0.3335 - Validation Accuracy 0.8750%\n",
            "Epoch [25/60] - Train Loss: 0.4132 - Train Accuracy: 0.8450 - Validation Loss: 0.2677 - Validation Accuracy 0.8942%\n",
            "Epoch [26/60] - Train Loss: 0.4289 - Train Accuracy: 0.8300 - Validation Loss: 0.4056 - Validation Accuracy 0.8365%\n",
            "Epoch [27/60] - Train Loss: 0.4183 - Train Accuracy: 0.8250 - Validation Loss: 0.2915 - Validation Accuracy 0.9135%\n",
            "Epoch [28/60] - Train Loss: 0.4405 - Train Accuracy: 0.8350 - Validation Loss: 0.2855 - Validation Accuracy 0.9135%\n",
            "Epoch [29/60] - Train Loss: 0.3262 - Train Accuracy: 0.8750 - Validation Loss: 0.3166 - Validation Accuracy 0.8846%\n",
            "Epoch [30/60] - Train Loss: 0.3978 - Train Accuracy: 0.8550 - Validation Loss: 0.2729 - Validation Accuracy 0.9038%\n",
            "Epoch [31/60] - Train Loss: 0.4118 - Train Accuracy: 0.8450 - Validation Loss: 0.3190 - Validation Accuracy 0.8846%\n",
            "Epoch [32/60] - Train Loss: 0.4226 - Train Accuracy: 0.8300 - Validation Loss: 0.2711 - Validation Accuracy 0.8942%\n",
            "Epoch [33/60] - Train Loss: 0.4865 - Train Accuracy: 0.7900 - Validation Loss: 0.3276 - Validation Accuracy 0.8846%\n",
            "Epoch [34/60] - Train Loss: 0.3942 - Train Accuracy: 0.8750 - Validation Loss: 0.4211 - Validation Accuracy 0.8173%\n",
            "Epoch [35/60] - Train Loss: 0.4613 - Train Accuracy: 0.8250 - Validation Loss: 0.6517 - Validation Accuracy 0.6442%\n",
            "Epoch [36/60] - Train Loss: 0.4874 - Train Accuracy: 0.7800 - Validation Loss: 0.2985 - Validation Accuracy 0.9038%\n",
            "Epoch [37/60] - Train Loss: 0.3562 - Train Accuracy: 0.8750 - Validation Loss: 0.2841 - Validation Accuracy 0.9038%\n",
            "Epoch [38/60] - Train Loss: 0.4333 - Train Accuracy: 0.8450 - Validation Loss: 0.2904 - Validation Accuracy 0.9038%\n",
            "Epoch [39/60] - Train Loss: 0.4169 - Train Accuracy: 0.8500 - Validation Loss: 0.3485 - Validation Accuracy 0.8654%\n",
            "Epoch [40/60] - Train Loss: 0.4260 - Train Accuracy: 0.8250 - Validation Loss: 0.2985 - Validation Accuracy 0.8750%\n",
            "Epoch [41/60] - Train Loss: 0.3959 - Train Accuracy: 0.8600 - Validation Loss: 0.2958 - Validation Accuracy 0.9135%\n",
            "Epoch [42/60] - Train Loss: 0.4073 - Train Accuracy: 0.8650 - Validation Loss: 0.2831 - Validation Accuracy 0.8846%\n",
            "Epoch [43/60] - Train Loss: 0.4320 - Train Accuracy: 0.8200 - Validation Loss: 0.3169 - Validation Accuracy 0.8846%\n",
            "Epoch [44/60] - Train Loss: 0.3683 - Train Accuracy: 0.8650 - Validation Loss: 0.3002 - Validation Accuracy 0.8942%\n",
            "Epoch [45/60] - Train Loss: 0.4327 - Train Accuracy: 0.8300 - Validation Loss: 0.2852 - Validation Accuracy 0.8846%\n",
            "Epoch [46/60] - Train Loss: 0.3886 - Train Accuracy: 0.8650 - Validation Loss: 0.2924 - Validation Accuracy 0.8846%\n",
            "Epoch [47/60] - Train Loss: 0.3649 - Train Accuracy: 0.8750 - Validation Loss: 0.2971 - Validation Accuracy 0.8942%\n",
            "Epoch [48/60] - Train Loss: 0.3864 - Train Accuracy: 0.8550 - Validation Loss: 0.2848 - Validation Accuracy 0.9135%\n",
            "Epoch [49/60] - Train Loss: 0.4009 - Train Accuracy: 0.8400 - Validation Loss: 0.2839 - Validation Accuracy 0.9038%\n",
            "Epoch [50/60] - Train Loss: 0.4420 - Train Accuracy: 0.8200 - Validation Loss: 0.3175 - Validation Accuracy 0.8942%\n",
            "Epoch [51/60] - Train Loss: 0.3494 - Train Accuracy: 0.8850 - Validation Loss: 0.2842 - Validation Accuracy 0.9135%\n",
            "Epoch [52/60] - Train Loss: 0.3279 - Train Accuracy: 0.8900 - Validation Loss: 0.2922 - Validation Accuracy 0.8750%\n",
            "Epoch [53/60] - Train Loss: 0.4663 - Train Accuracy: 0.8000 - Validation Loss: 0.2967 - Validation Accuracy 0.8750%\n",
            "Epoch [54/60] - Train Loss: 0.4210 - Train Accuracy: 0.8350 - Validation Loss: 0.3451 - Validation Accuracy 0.8365%\n",
            "Epoch [55/60] - Train Loss: 0.4027 - Train Accuracy: 0.8500 - Validation Loss: 0.3106 - Validation Accuracy 0.8846%\n",
            "Epoch [56/60] - Train Loss: 0.3833 - Train Accuracy: 0.8650 - Validation Loss: 0.2944 - Validation Accuracy 0.8942%\n",
            "Epoch [57/60] - Train Loss: 0.3670 - Train Accuracy: 0.8450 - Validation Loss: 0.3354 - Validation Accuracy 0.8846%\n",
            "Epoch [58/60] - Train Loss: 0.2814 - Train Accuracy: 0.9000 - Validation Loss: 0.5796 - Validation Accuracy 0.6923%\n",
            "Epoch [59/60] - Train Loss: 0.3712 - Train Accuracy: 0.8700 - Validation Loss: 0.2911 - Validation Accuracy 0.8750%\n",
            "Epoch [60/60] - Train Loss: 0.3274 - Train Accuracy: 0.8650 - Validation Loss: 0.2481 - Validation Accuracy 0.8942%\n"
          ]
        }
      ],
      "source": [
        "# Train the model on the 100X data here (1 points)\n",
        "model_path = '/content/best_model_after100X.pt'\n",
        "epochs = 60\n",
        "magn = \"100X\"\n",
        "\n",
        "wandb.init(\n",
        "    # set the wandb project where this run will be logged\n",
        "    project=\"MIL\",\n",
        "\n",
        "    # track hyperparameters and run metadata\n",
        "    config={\n",
        "    \"learning_rate\": lr,\n",
        "    \"architecture\": \"Attention-based Deep Multiple Instance Learning\",\n",
        "    \"epochs\": epochs,\n",
        "    },\n",
        "    name=magn\n",
        ")\n",
        "# model = torch.load(model_path)\n",
        "# model.load_state_dict(torch.load(model_path))\n",
        "train(dataloader[magn])"
      ]
    },
    {
      "cell_type": "code",
      "execution_count": 100,
      "metadata": {
        "colab": {
          "base_uri": "https://localhost:8080/",
          "height": 533
        },
        "id": "kbab1mVOPtow",
        "outputId": "07f24bdc-abfe-4976-ce2e-12b067e3e622"
      },
      "outputs": [
        {
          "data": {
            "text/html": [
              "<iframe src=\"https://api.wandb.ai/links/amirezzati/z1qrxvlc\" style=\"border:none;height:512px;width:1024px\">"
            ],
            "text/plain": [
              "<IPython.core.display.HTML object>"
            ]
          },
          "execution_count": 100,
          "metadata": {},
          "output_type": "execute_result"
        }
      ],
      "source": [
        "# Plot loss and accuracy per epoch for 100X here (2 points)\n",
        "# loss plot\n",
        "IPython.display.HTML('<iframe src=\"https://api.wandb.ai/links/amirezzati/z1qrxvlc\" style=\"border:none;height:512px;width:1024px\">')"
      ]
    },
    {
      "cell_type": "code",
      "execution_count": 99,
      "metadata": {
        "colab": {
          "base_uri": "https://localhost:8080/",
          "height": 533
        },
        "id": "-HyWorZnok_p",
        "outputId": "ebaa7e01-f7b7-4b74-89a2-d97cb0097116"
      },
      "outputs": [
        {
          "data": {
            "text/html": [
              "<iframe src=\"https://api.wandb.ai/links/amirezzati/3gjnbitl\" style=\"border:none;height:512px;width:1024px\">"
            ],
            "text/plain": [
              "<IPython.core.display.HTML object>"
            ]
          },
          "execution_count": 99,
          "metadata": {},
          "output_type": "execute_result"
        }
      ],
      "source": [
        "# acc plot\n",
        "IPython.display.HTML('<iframe src=\"https://api.wandb.ai/links/amirezzati/3gjnbitl\" style=\"border:none;height:512px;width:1024px\">')"
      ]
    },
    {
      "cell_type": "markdown",
      "metadata": {
        "id": "X8B0yWs-5AA5"
      },
      "source": [
        "**RESULT: Best accuracy on validation set is 91.35%**"
      ]
    },
    {
      "cell_type": "code",
      "execution_count": 96,
      "metadata": {
        "colab": {
          "base_uri": "https://localhost:8080/",
          "height": 1000,
          "referenced_widgets": [
            "5815df5c043345aa9eed3ca5f8915a56",
            "1d47474a1a124f779a31dc63cbc668c1",
            "00fd79e81ef9463d813c0e426bcfaca1",
            "ddd4dce758124a30929de993cd900364",
            "2306b4ba27034b3c81d5e6c733481e00",
            "9f2c7521047f47cca9565c0f4a2ed10c",
            "045d384a51084e989a0dc69b76b259f4",
            "b1bef84ce5e2403f9687a630525ade51"
          ]
        },
        "id": "Qx0ZKmCNJnRl",
        "outputId": "4af425d2-edfe-4711-f4f1-f3bb3f829276"
      },
      "outputs": [
        {
          "data": {
            "text/html": [
              "Finishing last run (ID:l980ohin) before initializing another..."
            ],
            "text/plain": [
              "<IPython.core.display.HTML object>"
            ]
          },
          "metadata": {},
          "output_type": "display_data"
        },
        {
          "data": {
            "application/vnd.jupyter.widget-view+json": {
              "model_id": "5815df5c043345aa9eed3ca5f8915a56",
              "version_major": 2,
              "version_minor": 0
            },
            "text/plain": [
              "VBox(children=(Label(value='0.001 MB of 0.017 MB uploaded\\r'), FloatProgress(value=0.06782483210301382, max=1.…"
            ]
          },
          "metadata": {},
          "output_type": "display_data"
        },
        {
          "data": {
            "text/html": [
              "<style>\n",
              "    table.wandb td:nth-child(1) { padding: 0 10px; text-align: left ; width: auto;} td:nth-child(2) {text-align: left ; width: 100%}\n",
              "    .wandb-row { display: flex; flex-direction: row; flex-wrap: wrap; justify-content: flex-start; width: 100% }\n",
              "    .wandb-col { display: flex; flex-direction: column; flex-basis: 100%; flex: 1; padding: 10px; }\n",
              "    </style>\n",
              "<div class=\"wandb-row\"><div class=\"wandb-col\"><h3>Run history:</h3><br/><table class=\"wandb\"><tr><td>train_acc</td><td>▃▃▄▅▄▅▇▇▄▄▇▁▄▆▇▂▅▄▄▇▅▄▇▄▇▅▄▆▄▆▆▇▅▄▇▂▅▆█▆</td></tr><tr><td>train_loss</td><td>▇▇▆▆▆▅▄▃▆▇▄█▆▃▂█▅▆▆▂▅▆▅▇▃▆▆▅▆▄▄▄▅▆▂▇▅▄▁▂</td></tr><tr><td>val_acc</td><td>█▇▇██▇▇█▇██▇▆▇█▇▇▆█▇▇▇▅▁██▇█▇▇▇▇█▇▇▇▇▇▂▇</td></tr><tr><td>val_loss</td><td>▂▂▂▁▂▂▁▂▂▂▁▃▃▁▂▂▁▄▂▂▂▁▄█▂▂▂▂▂▂▂▂▂▂▂▂▂▂▇▁</td></tr></table><br/></div><div class=\"wandb-col\"><h3>Run summary:</h3><br/><table class=\"wandb\"><tr><td>train_acc</td><td>0.865</td></tr><tr><td>train_loss</td><td>0.32743</td></tr><tr><td>val_acc</td><td>0.89423</td></tr><tr><td>val_loss</td><td>0.24808</td></tr></table><br/></div></div>"
            ],
            "text/plain": [
              "<IPython.core.display.HTML object>"
            ]
          },
          "metadata": {},
          "output_type": "display_data"
        },
        {
          "data": {
            "text/html": [
              " View run <strong style=\"color:#cdcd00\">100X</strong> at: <a href='https://wandb.ai/amirezzati/MIL/runs/l980ohin' target=\"_blank\">https://wandb.ai/amirezzati/MIL/runs/l980ohin</a><br/>Synced 5 W&B file(s), 0 media file(s), 0 artifact file(s) and 0 other file(s)"
            ],
            "text/plain": [
              "<IPython.core.display.HTML object>"
            ]
          },
          "metadata": {},
          "output_type": "display_data"
        },
        {
          "data": {
            "text/html": [
              "Find logs at: <code>./wandb/run-20231226_152802-l980ohin/logs</code>"
            ],
            "text/plain": [
              "<IPython.core.display.HTML object>"
            ]
          },
          "metadata": {},
          "output_type": "display_data"
        },
        {
          "data": {
            "text/html": [
              "Successfully finished last run (ID:l980ohin). Initializing new run:<br/>"
            ],
            "text/plain": [
              "<IPython.core.display.HTML object>"
            ]
          },
          "metadata": {},
          "output_type": "display_data"
        },
        {
          "data": {
            "text/html": [
              "Tracking run with wandb version 0.16.1"
            ],
            "text/plain": [
              "<IPython.core.display.HTML object>"
            ]
          },
          "metadata": {},
          "output_type": "display_data"
        },
        {
          "data": {
            "text/html": [
              "Run data is saved locally in <code>/content/wandb/run-20231226_154411-7pdi9b6i</code>"
            ],
            "text/plain": [
              "<IPython.core.display.HTML object>"
            ]
          },
          "metadata": {},
          "output_type": "display_data"
        },
        {
          "data": {
            "text/html": [
              "Syncing run <strong><a href='https://wandb.ai/amirezzati/MIL/runs/7pdi9b6i' target=\"_blank\">200X</a></strong> to <a href='https://wandb.ai/amirezzati/MIL' target=\"_blank\">Weights & Biases</a> (<a href='https://wandb.me/run' target=\"_blank\">docs</a>)<br/>"
            ],
            "text/plain": [
              "<IPython.core.display.HTML object>"
            ]
          },
          "metadata": {},
          "output_type": "display_data"
        },
        {
          "data": {
            "text/html": [
              " View project at <a href='https://wandb.ai/amirezzati/MIL' target=\"_blank\">https://wandb.ai/amirezzati/MIL</a>"
            ],
            "text/plain": [
              "<IPython.core.display.HTML object>"
            ]
          },
          "metadata": {},
          "output_type": "display_data"
        },
        {
          "data": {
            "text/html": [
              " View run at <a href='https://wandb.ai/amirezzati/MIL/runs/7pdi9b6i' target=\"_blank\">https://wandb.ai/amirezzati/MIL/runs/7pdi9b6i</a>"
            ],
            "text/plain": [
              "<IPython.core.display.HTML object>"
            ]
          },
          "metadata": {},
          "output_type": "display_data"
        },
        {
          "name": "stdout",
          "output_type": "stream",
          "text": [
            "Epoch [1/60] - Train Loss: 0.3581 - Train Accuracy: 0.8700 - Validation Loss: 0.5024 - Validation Accuracy 0.8020%\n",
            "Epoch [2/60] - Train Loss: 0.2871 - Train Accuracy: 0.9200 - Validation Loss: 0.4398 - Validation Accuracy 0.8317%\n",
            "Epoch [3/60] - Train Loss: 0.3717 - Train Accuracy: 0.8700 - Validation Loss: 0.4175 - Validation Accuracy 0.8119%\n",
            "Epoch [4/60] - Train Loss: 0.2678 - Train Accuracy: 0.9150 - Validation Loss: 0.5173 - Validation Accuracy 0.8020%\n",
            "Epoch [5/60] - Train Loss: 0.3966 - Train Accuracy: 0.8250 - Validation Loss: 0.4267 - Validation Accuracy 0.8218%\n",
            "Epoch [6/60] - Train Loss: 0.3066 - Train Accuracy: 0.8900 - Validation Loss: 0.4456 - Validation Accuracy 0.8317%\n",
            "Epoch [7/60] - Train Loss: 0.3317 - Train Accuracy: 0.8550 - Validation Loss: 0.5030 - Validation Accuracy 0.8020%\n",
            "Epoch [8/60] - Train Loss: 0.3989 - Train Accuracy: 0.8600 - Validation Loss: 0.4515 - Validation Accuracy 0.8020%\n",
            "Epoch [9/60] - Train Loss: 0.3335 - Train Accuracy: 0.8800 - Validation Loss: 0.5301 - Validation Accuracy 0.8119%\n",
            "Epoch [10/60] - Train Loss: 0.3237 - Train Accuracy: 0.8850 - Validation Loss: 0.4097 - Validation Accuracy 0.8218%\n",
            "Epoch [11/60] - Train Loss: 0.3234 - Train Accuracy: 0.8750 - Validation Loss: 0.5268 - Validation Accuracy 0.8119%\n",
            "Epoch [12/60] - Train Loss: 0.4474 - Train Accuracy: 0.8150 - Validation Loss: 0.4190 - Validation Accuracy 0.8119%\n",
            "Epoch [13/60] - Train Loss: 0.2179 - Train Accuracy: 0.9350 - Validation Loss: 0.5424 - Validation Accuracy 0.8020%\n",
            "Epoch [14/60] - Train Loss: 0.3686 - Train Accuracy: 0.8500 - Validation Loss: 0.4159 - Validation Accuracy 0.8020%\n",
            "Epoch [15/60] - Train Loss: 0.2593 - Train Accuracy: 0.9100 - Validation Loss: 0.4556 - Validation Accuracy 0.8119%\n",
            "Epoch [16/60] - Train Loss: 0.3327 - Train Accuracy: 0.8850 - Validation Loss: 0.4100 - Validation Accuracy 0.8416%\n",
            "Epoch [17/60] - Train Loss: 0.2661 - Train Accuracy: 0.9000 - Validation Loss: 0.4249 - Validation Accuracy 0.8416%\n",
            "Epoch [18/60] - Train Loss: 0.3282 - Train Accuracy: 0.8850 - Validation Loss: 0.5563 - Validation Accuracy 0.7822%\n",
            "Epoch [19/60] - Train Loss: 0.2494 - Train Accuracy: 0.9150 - Validation Loss: 0.4733 - Validation Accuracy 0.8119%\n",
            "Epoch [20/60] - Train Loss: 0.3142 - Train Accuracy: 0.8800 - Validation Loss: 0.4686 - Validation Accuracy 0.8119%\n",
            "Epoch [21/60] - Train Loss: 0.3308 - Train Accuracy: 0.8750 - Validation Loss: 0.4790 - Validation Accuracy 0.8119%\n",
            "Epoch [22/60] - Train Loss: 0.3490 - Train Accuracy: 0.8700 - Validation Loss: 0.5363 - Validation Accuracy 0.7723%\n",
            "Epoch [23/60] - Train Loss: 0.2607 - Train Accuracy: 0.9150 - Validation Loss: 0.4789 - Validation Accuracy 0.8218%\n",
            "Epoch [24/60] - Train Loss: 0.2781 - Train Accuracy: 0.9050 - Validation Loss: 0.3991 - Validation Accuracy 0.8317%\n",
            "Epoch [25/60] - Train Loss: 0.2897 - Train Accuracy: 0.9050 - Validation Loss: 0.4320 - Validation Accuracy 0.8119%\n",
            "Epoch [26/60] - Train Loss: 0.2709 - Train Accuracy: 0.9100 - Validation Loss: 0.4318 - Validation Accuracy 0.8416%\n",
            "Epoch [27/60] - Train Loss: 0.3226 - Train Accuracy: 0.8700 - Validation Loss: 0.4304 - Validation Accuracy 0.8515%\n",
            "Epoch [28/60] - Train Loss: 0.2485 - Train Accuracy: 0.9100 - Validation Loss: 0.4277 - Validation Accuracy 0.8119%\n",
            "Epoch [29/60] - Train Loss: 0.2991 - Train Accuracy: 0.8850 - Validation Loss: 0.3841 - Validation Accuracy 0.8317%\n",
            "Epoch [30/60] - Train Loss: 0.3209 - Train Accuracy: 0.8650 - Validation Loss: 0.4080 - Validation Accuracy 0.8119%\n",
            "Epoch [31/60] - Train Loss: 0.2903 - Train Accuracy: 0.8950 - Validation Loss: 0.4178 - Validation Accuracy 0.8119%\n",
            "Epoch [32/60] - Train Loss: 0.2730 - Train Accuracy: 0.9050 - Validation Loss: 0.4071 - Validation Accuracy 0.8119%\n",
            "Epoch [33/60] - Train Loss: 0.3662 - Train Accuracy: 0.8550 - Validation Loss: 0.4147 - Validation Accuracy 0.7921%\n",
            "Epoch [34/60] - Train Loss: 0.3255 - Train Accuracy: 0.8650 - Validation Loss: 0.4134 - Validation Accuracy 0.8119%\n",
            "Epoch [35/60] - Train Loss: 0.3402 - Train Accuracy: 0.8650 - Validation Loss: 0.4019 - Validation Accuracy 0.8119%\n",
            "Epoch [36/60] - Train Loss: 0.2852 - Train Accuracy: 0.8950 - Validation Loss: 0.4391 - Validation Accuracy 0.7822%\n",
            "Epoch [37/60] - Train Loss: 0.3467 - Train Accuracy: 0.8550 - Validation Loss: 0.3795 - Validation Accuracy 0.8218%\n",
            "Epoch [38/60] - Train Loss: 0.3079 - Train Accuracy: 0.8900 - Validation Loss: 0.4311 - Validation Accuracy 0.8515%\n",
            "Epoch [39/60] - Train Loss: 0.3267 - Train Accuracy: 0.8800 - Validation Loss: 0.4051 - Validation Accuracy 0.8317%\n",
            "Epoch [40/60] - Train Loss: 0.3267 - Train Accuracy: 0.8800 - Validation Loss: 0.3935 - Validation Accuracy 0.8119%\n",
            "Epoch [41/60] - Train Loss: 0.3111 - Train Accuracy: 0.8750 - Validation Loss: 0.3820 - Validation Accuracy 0.8119%\n",
            "Epoch [42/60] - Train Loss: 0.2473 - Train Accuracy: 0.8800 - Validation Loss: 0.3858 - Validation Accuracy 0.8119%\n",
            "Epoch [43/60] - Train Loss: 0.3081 - Train Accuracy: 0.8950 - Validation Loss: 0.3828 - Validation Accuracy 0.8218%\n",
            "Epoch [44/60] - Train Loss: 0.2659 - Train Accuracy: 0.9000 - Validation Loss: 0.3961 - Validation Accuracy 0.8218%\n",
            "Epoch [45/60] - Train Loss: 0.3071 - Train Accuracy: 0.8950 - Validation Loss: 0.3916 - Validation Accuracy 0.8218%\n",
            "Epoch [46/60] - Train Loss: 0.3401 - Train Accuracy: 0.8700 - Validation Loss: 0.3869 - Validation Accuracy 0.8218%\n",
            "Epoch [47/60] - Train Loss: 0.2932 - Train Accuracy: 0.9100 - Validation Loss: 0.4123 - Validation Accuracy 0.8119%\n",
            "Epoch [48/60] - Train Loss: 0.3301 - Train Accuracy: 0.8650 - Validation Loss: 0.4012 - Validation Accuracy 0.8515%\n",
            "Epoch [49/60] - Train Loss: 0.2999 - Train Accuracy: 0.9000 - Validation Loss: 0.3749 - Validation Accuracy 0.8317%\n",
            "Epoch [50/60] - Train Loss: 0.2926 - Train Accuracy: 0.8850 - Validation Loss: 0.4075 - Validation Accuracy 0.8416%\n",
            "Epoch [51/60] - Train Loss: 0.3452 - Train Accuracy: 0.8700 - Validation Loss: 0.3685 - Validation Accuracy 0.8317%\n",
            "Epoch [52/60] - Train Loss: 0.2774 - Train Accuracy: 0.9000 - Validation Loss: 0.3918 - Validation Accuracy 0.8218%\n",
            "Epoch [53/60] - Train Loss: 0.1759 - Train Accuracy: 0.9350 - Validation Loss: 0.4033 - Validation Accuracy 0.8317%\n",
            "Epoch [54/60] - Train Loss: 0.2785 - Train Accuracy: 0.9000 - Validation Loss: 0.4095 - Validation Accuracy 0.8515%\n",
            "Epoch [55/60] - Train Loss: 0.3133 - Train Accuracy: 0.8800 - Validation Loss: 0.4918 - Validation Accuracy 0.7723%\n",
            "Epoch [56/60] - Train Loss: 0.2045 - Train Accuracy: 0.9050 - Validation Loss: 0.4599 - Validation Accuracy 0.8119%\n",
            "Epoch [57/60] - Train Loss: 0.3202 - Train Accuracy: 0.8850 - Validation Loss: 0.3702 - Validation Accuracy 0.8020%\n",
            "Epoch [58/60] - Train Loss: 0.2832 - Train Accuracy: 0.9150 - Validation Loss: 0.3923 - Validation Accuracy 0.8218%\n",
            "Epoch [59/60] - Train Loss: 0.2359 - Train Accuracy: 0.9050 - Validation Loss: 0.4044 - Validation Accuracy 0.8218%\n",
            "Epoch [60/60] - Train Loss: 0.2520 - Train Accuracy: 0.9000 - Validation Loss: 0.4170 - Validation Accuracy 0.8119%\n"
          ]
        }
      ],
      "source": [
        "# Train the model on the 200X data here (1 points)\n",
        "model_path = '/content/best_model_after200X.pt'\n",
        "epochs = 60\n",
        "magn = \"200X\"\n",
        "\n",
        "wandb.init(\n",
        "    # set the wandb project where this run will be logged\n",
        "    project=\"MIL\",\n",
        "\n",
        "    # track hyperparameters and run metadata\n",
        "    config={\n",
        "    \"learning_rate\": lr,\n",
        "    \"architecture\": \"Attention-based Deep Multiple Instance Learning\",\n",
        "    \"epochs\": epochs,\n",
        "    },\n",
        "    name=magn\n",
        ")\n",
        "\n",
        "# model = torch.load(model_path)\n",
        "# model.load_state_dict(torch.load(model_path))\n",
        "train(dataloader[magn])"
      ]
    },
    {
      "cell_type": "code",
      "execution_count": null,
      "metadata": {
        "id": "qxYJE50z9uRm"
      },
      "outputs": [],
      "source": [
        "model = Attention()\n",
        "model.load_state_dict(torch.load(/content/best_model_after200X.pt'))\n",
        "\n",
        "\n",
        "\n",
        "\n",
        "\n"
      ]
    },
    {
      "cell_type": "code",
      "execution_count": 103,
      "metadata": {
        "colab": {
          "base_uri": "https://localhost:8080/",
          "height": 533
        },
        "id": "etpskv0pUNJ7",
        "outputId": "7b078c51-572e-422f-ed56-67fef2d89438"
      },
      "outputs": [
        {
          "data": {
            "text/html": [
              "<iframe src=\"https://api.wandb.ai/links/amirezzati/tqqvojth\" style=\"border:none;height:512px;width:1024px\">"
            ],
            "text/plain": [
              "<IPython.core.display.HTML object>"
            ]
          },
          "execution_count": 103,
          "metadata": {},
          "output_type": "execute_result"
        }
      ],
      "source": [
        "# Plot loss and accuracy per epoch for 200X here (2 points)\n",
        "# loss plot\n",
        "IPython.display.HTML('<iframe src=\"https://api.wandb.ai/links/amirezzati/tqqvojth\" style=\"border:none;height:512px;width:1024px\">')"
      ]
    },
    {
      "cell_type": "code",
      "execution_count": 102,
      "metadata": {
        "colab": {
          "base_uri": "https://localhost:8080/",
          "height": 533
        },
        "id": "E8ZlqW9bonTO",
        "outputId": "a737df2a-f57c-4b70-916e-09c9486084ba"
      },
      "outputs": [
        {
          "data": {
            "text/html": [
              "<iframe src=\"https://api.wandb.ai/links/amirezzati/cn5owk44\" style=\"border:none;height:512px;width:1024px\">"
            ],
            "text/plain": [
              "<IPython.core.display.HTML object>"
            ]
          },
          "execution_count": 102,
          "metadata": {},
          "output_type": "execute_result"
        }
      ],
      "source": [
        "# acc plot\n",
        "IPython.display.HTML('<iframe src=\"https://api.wandb.ai/links/amirezzati/cn5owk44\" style=\"border:none;height:512px;width:1024px\">')"
      ]
    },
    {
      "cell_type": "markdown",
      "metadata": {
        "id": "cn_oO7UW4w5t"
      },
      "source": [
        "**RESULT: Best accuracy on validation set is 85.15%**"
      ]
    },
    {
      "cell_type": "code",
      "execution_count": 101,
      "metadata": {
        "colab": {
          "base_uri": "https://localhost:8080/",
          "height": 1000,
          "referenced_widgets": [
            "713dd4c3b98b495c9a333e44a9d1d19b",
            "a6419226b6734f1bbb695c83e676c500",
            "a6686963ea1e4e1a9094ca29e3e9a8b5",
            "93e0d6b747144ef7a73c1165987b6314",
            "21ff8f6173a14870a83ec997430fb39d",
            "e30111ef047741948507a26a083b24ab",
            "f00985a5dc17413c86c2d19cabea43fa",
            "f5e3c52ae7254eb3a1c09a58de105199"
          ]
        },
        "id": "mfuzI_3TJvIo",
        "outputId": "2aee9a66-50a2-4b8c-b43a-db0b099c5c78"
      },
      "outputs": [
        {
          "data": {
            "text/html": [
              "Finishing last run (ID:7pdi9b6i) before initializing another..."
            ],
            "text/plain": [
              "<IPython.core.display.HTML object>"
            ]
          },
          "metadata": {},
          "output_type": "display_data"
        },
        {
          "data": {
            "application/vnd.jupyter.widget-view+json": {
              "model_id": "713dd4c3b98b495c9a333e44a9d1d19b",
              "version_major": 2,
              "version_minor": 0
            },
            "text/plain": [
              "VBox(children=(Label(value='0.001 MB of 0.017 MB uploaded\\r'), FloatProgress(value=0.06772510269790163, max=1.…"
            ]
          },
          "metadata": {},
          "output_type": "display_data"
        },
        {
          "data": {
            "text/html": [
              "<style>\n",
              "    table.wandb td:nth-child(1) { padding: 0 10px; text-align: left ; width: auto;} td:nth-child(2) {text-align: left ; width: 100%}\n",
              "    .wandb-row { display: flex; flex-direction: row; flex-wrap: wrap; justify-content: flex-start; width: 100% }\n",
              "    .wandb-col { display: flex; flex-direction: column; flex-basis: 100%; flex: 1; padding: 10px; }\n",
              "    </style>\n",
              "<div class=\"wandb-row\"><div class=\"wandb-col\"><h3>Run history:</h3><br/><table class=\"wandb\"><tr><td>train_acc</td><td>▄▇▇▁▃▃▅▄█▃▅▆▇▅▄▇▆▆▆▅▅▆▄▄▃▅▅▄▅▆▄▆▆▅▆█▅▆▇▆</td></tr><tr><td>train_loss</td><td>▇▄▄█▆█▆▆▂▇▆▄▃▅▆▄▅▄▃▅▅▄▆▆▆▅▆▅▅▄▆▅▅▅▄▁▅▂▄▃</td></tr><tr><td>val_acc</td><td>▄▆▄▅▄▄▅▅▄▄▇▇▅▅▁▅▅▇▅▆▅▅▅▅▅█▅▅▅▅▅▅▆▇▅▆▁▅▅▅</td></tr><tr><td>val_loss</td><td>▆▄▇▃▆▄▂▇█▃▂▃▅▅█▅▃▃▃▁▃▂▃▂▁▃▂▁▁▂▂▃▁▂▂▂▆▅▂▃</td></tr></table><br/></div><div class=\"wandb-col\"><h3>Run summary:</h3><br/><table class=\"wandb\"><tr><td>train_acc</td><td>0.9</td></tr><tr><td>train_loss</td><td>0.25198</td></tr><tr><td>val_acc</td><td>0.81188</td></tr><tr><td>val_loss</td><td>0.41698</td></tr></table><br/></div></div>"
            ],
            "text/plain": [
              "<IPython.core.display.HTML object>"
            ]
          },
          "metadata": {},
          "output_type": "display_data"
        },
        {
          "data": {
            "text/html": [
              " View run <strong style=\"color:#cdcd00\">200X</strong> at: <a href='https://wandb.ai/amirezzati/MIL/runs/7pdi9b6i' target=\"_blank\">https://wandb.ai/amirezzati/MIL/runs/7pdi9b6i</a><br/>Synced 5 W&B file(s), 0 media file(s), 0 artifact file(s) and 0 other file(s)"
            ],
            "text/plain": [
              "<IPython.core.display.HTML object>"
            ]
          },
          "metadata": {},
          "output_type": "display_data"
        },
        {
          "data": {
            "text/html": [
              "Find logs at: <code>./wandb/run-20231226_154411-7pdi9b6i/logs</code>"
            ],
            "text/plain": [
              "<IPython.core.display.HTML object>"
            ]
          },
          "metadata": {},
          "output_type": "display_data"
        },
        {
          "data": {
            "text/html": [
              "Successfully finished last run (ID:7pdi9b6i). Initializing new run:<br/>"
            ],
            "text/plain": [
              "<IPython.core.display.HTML object>"
            ]
          },
          "metadata": {},
          "output_type": "display_data"
        },
        {
          "data": {
            "text/html": [
              "Tracking run with wandb version 0.16.1"
            ],
            "text/plain": [
              "<IPython.core.display.HTML object>"
            ]
          },
          "metadata": {},
          "output_type": "display_data"
        },
        {
          "data": {
            "text/html": [
              "Run data is saved locally in <code>/content/wandb/run-20231226_160434-4m74emkj</code>"
            ],
            "text/plain": [
              "<IPython.core.display.HTML object>"
            ]
          },
          "metadata": {},
          "output_type": "display_data"
        },
        {
          "data": {
            "text/html": [
              "Syncing run <strong><a href='https://wandb.ai/amirezzati/MIL/runs/4m74emkj' target=\"_blank\">400X</a></strong> to <a href='https://wandb.ai/amirezzati/MIL' target=\"_blank\">Weights & Biases</a> (<a href='https://wandb.me/run' target=\"_blank\">docs</a>)<br/>"
            ],
            "text/plain": [
              "<IPython.core.display.HTML object>"
            ]
          },
          "metadata": {},
          "output_type": "display_data"
        },
        {
          "data": {
            "text/html": [
              " View project at <a href='https://wandb.ai/amirezzati/MIL' target=\"_blank\">https://wandb.ai/amirezzati/MIL</a>"
            ],
            "text/plain": [
              "<IPython.core.display.HTML object>"
            ]
          },
          "metadata": {},
          "output_type": "display_data"
        },
        {
          "data": {
            "text/html": [
              " View run at <a href='https://wandb.ai/amirezzati/MIL/runs/4m74emkj' target=\"_blank\">https://wandb.ai/amirezzati/MIL/runs/4m74emkj</a>"
            ],
            "text/plain": [
              "<IPython.core.display.HTML object>"
            ]
          },
          "metadata": {},
          "output_type": "display_data"
        },
        {
          "name": "stdout",
          "output_type": "stream",
          "text": [
            "Epoch [1/60] - Train Loss: 0.3406 - Train Accuracy: 0.8600 - Validation Loss: 0.3773 - Validation Accuracy 0.8901%\n",
            "Epoch [2/60] - Train Loss: 0.3168 - Train Accuracy: 0.8650 - Validation Loss: 0.3849 - Validation Accuracy 0.8132%\n",
            "Epoch [3/60] - Train Loss: 0.2654 - Train Accuracy: 0.9150 - Validation Loss: 0.5600 - Validation Accuracy 0.7363%\n",
            "Epoch [4/60] - Train Loss: 0.3890 - Train Accuracy: 0.8750 - Validation Loss: 0.3480 - Validation Accuracy 0.8901%\n",
            "Epoch [5/60] - Train Loss: 0.3112 - Train Accuracy: 0.8850 - Validation Loss: 0.3469 - Validation Accuracy 0.8681%\n",
            "Epoch [6/60] - Train Loss: 0.3266 - Train Accuracy: 0.8600 - Validation Loss: 0.4308 - Validation Accuracy 0.8132%\n",
            "Epoch [7/60] - Train Loss: 0.3454 - Train Accuracy: 0.8700 - Validation Loss: 0.3787 - Validation Accuracy 0.8462%\n",
            "Epoch [8/60] - Train Loss: 0.3733 - Train Accuracy: 0.8350 - Validation Loss: 0.3406 - Validation Accuracy 0.8901%\n",
            "Epoch [9/60] - Train Loss: 0.3460 - Train Accuracy: 0.8750 - Validation Loss: 0.3426 - Validation Accuracy 0.8901%\n",
            "Epoch [10/60] - Train Loss: 0.2796 - Train Accuracy: 0.9000 - Validation Loss: 0.3822 - Validation Accuracy 0.8791%\n",
            "Epoch [11/60] - Train Loss: 0.3241 - Train Accuracy: 0.8850 - Validation Loss: 0.3226 - Validation Accuracy 0.9011%\n",
            "Epoch [12/60] - Train Loss: 0.3031 - Train Accuracy: 0.8800 - Validation Loss: 0.3390 - Validation Accuracy 0.8901%\n",
            "Epoch [13/60] - Train Loss: 0.3628 - Train Accuracy: 0.8400 - Validation Loss: 0.3311 - Validation Accuracy 0.8791%\n",
            "Epoch [14/60] - Train Loss: 0.3799 - Train Accuracy: 0.8550 - Validation Loss: 0.3379 - Validation Accuracy 0.8681%\n",
            "Epoch [15/60] - Train Loss: 0.3907 - Train Accuracy: 0.8300 - Validation Loss: 0.3693 - Validation Accuracy 0.8352%\n",
            "Epoch [16/60] - Train Loss: 0.3329 - Train Accuracy: 0.8750 - Validation Loss: 0.3535 - Validation Accuracy 0.9011%\n",
            "Epoch [17/60] - Train Loss: 0.3573 - Train Accuracy: 0.8400 - Validation Loss: 0.3576 - Validation Accuracy 0.8681%\n",
            "Epoch [18/60] - Train Loss: 0.3884 - Train Accuracy: 0.8300 - Validation Loss: 0.4004 - Validation Accuracy 0.8132%\n",
            "Epoch [19/60] - Train Loss: 0.3020 - Train Accuracy: 0.8850 - Validation Loss: 0.3634 - Validation Accuracy 0.8571%\n",
            "Epoch [20/60] - Train Loss: 0.3448 - Train Accuracy: 0.8400 - Validation Loss: 0.3648 - Validation Accuracy 0.8791%\n",
            "Epoch [21/60] - Train Loss: 0.3572 - Train Accuracy: 0.8400 - Validation Loss: 0.4332 - Validation Accuracy 0.8022%\n",
            "Epoch [22/60] - Train Loss: 0.4273 - Train Accuracy: 0.8000 - Validation Loss: 0.4290 - Validation Accuracy 0.7692%\n",
            "Epoch [23/60] - Train Loss: 0.3218 - Train Accuracy: 0.8650 - Validation Loss: 0.3763 - Validation Accuracy 0.8462%\n",
            "Epoch [24/60] - Train Loss: 0.3000 - Train Accuracy: 0.8950 - Validation Loss: 0.3962 - Validation Accuracy 0.8022%\n",
            "Epoch [25/60] - Train Loss: 0.3278 - Train Accuracy: 0.8550 - Validation Loss: 0.3880 - Validation Accuracy 0.8462%\n",
            "Epoch [26/60] - Train Loss: 0.2970 - Train Accuracy: 0.8850 - Validation Loss: 0.4912 - Validation Accuracy 0.7582%\n",
            "Epoch [27/60] - Train Loss: 0.2896 - Train Accuracy: 0.9050 - Validation Loss: 0.3921 - Validation Accuracy 0.8352%\n",
            "Epoch [28/60] - Train Loss: 0.2767 - Train Accuracy: 0.8900 - Validation Loss: 0.3743 - Validation Accuracy 0.8681%\n",
            "Epoch [29/60] - Train Loss: 0.3401 - Train Accuracy: 0.8650 - Validation Loss: 0.4307 - Validation Accuracy 0.8022%\n",
            "Epoch [30/60] - Train Loss: 0.3351 - Train Accuracy: 0.8600 - Validation Loss: 0.3217 - Validation Accuracy 0.8681%\n",
            "Epoch [31/60] - Train Loss: 0.2674 - Train Accuracy: 0.9000 - Validation Loss: 0.5228 - Validation Accuracy 0.7912%\n",
            "Epoch [32/60] - Train Loss: 0.3135 - Train Accuracy: 0.8850 - Validation Loss: 0.3475 - Validation Accuracy 0.8352%\n",
            "Epoch [33/60] - Train Loss: 0.2361 - Train Accuracy: 0.9300 - Validation Loss: 0.3068 - Validation Accuracy 0.8791%\n",
            "Epoch [34/60] - Train Loss: 0.3538 - Train Accuracy: 0.8500 - Validation Loss: 0.3775 - Validation Accuracy 0.8791%\n",
            "Epoch [35/60] - Train Loss: 0.3188 - Train Accuracy: 0.8550 - Validation Loss: 0.4607 - Validation Accuracy 0.7912%\n",
            "Epoch [36/60] - Train Loss: 0.3664 - Train Accuracy: 0.8650 - Validation Loss: 0.4730 - Validation Accuracy 0.7692%\n",
            "Epoch [37/60] - Train Loss: 0.2990 - Train Accuracy: 0.8850 - Validation Loss: 0.5285 - Validation Accuracy 0.7582%\n",
            "Epoch [38/60] - Train Loss: 0.3205 - Train Accuracy: 0.8650 - Validation Loss: 0.3695 - Validation Accuracy 0.8791%\n",
            "Epoch [39/60] - Train Loss: 0.3955 - Train Accuracy: 0.8350 - Validation Loss: 0.3773 - Validation Accuracy 0.8132%\n",
            "Epoch [40/60] - Train Loss: 0.1999 - Train Accuracy: 0.9350 - Validation Loss: 0.3145 - Validation Accuracy 0.8791%\n",
            "Epoch [41/60] - Train Loss: 0.3525 - Train Accuracy: 0.8550 - Validation Loss: 0.3485 - Validation Accuracy 0.8352%\n",
            "Epoch [42/60] - Train Loss: 0.3043 - Train Accuracy: 0.8650 - Validation Loss: 0.3274 - Validation Accuracy 0.8791%\n",
            "Epoch [43/60] - Train Loss: 0.2008 - Train Accuracy: 0.9450 - Validation Loss: 0.4770 - Validation Accuracy 0.7692%\n",
            "Epoch [44/60] - Train Loss: 0.2939 - Train Accuracy: 0.8800 - Validation Loss: 0.3428 - Validation Accuracy 0.9011%\n",
            "Epoch [45/60] - Train Loss: 0.2692 - Train Accuracy: 0.8900 - Validation Loss: 0.3463 - Validation Accuracy 0.8791%\n",
            "Epoch [46/60] - Train Loss: 0.4138 - Train Accuracy: 0.8200 - Validation Loss: 0.3573 - Validation Accuracy 0.8681%\n",
            "Epoch [47/60] - Train Loss: 0.3227 - Train Accuracy: 0.8750 - Validation Loss: 0.3612 - Validation Accuracy 0.8681%\n",
            "Epoch [48/60] - Train Loss: 0.3082 - Train Accuracy: 0.8850 - Validation Loss: 0.3403 - Validation Accuracy 0.8901%\n",
            "Epoch [49/60] - Train Loss: 0.3680 - Train Accuracy: 0.8650 - Validation Loss: 0.3327 - Validation Accuracy 0.8791%\n",
            "Epoch [50/60] - Train Loss: 0.2932 - Train Accuracy: 0.9000 - Validation Loss: 0.3335 - Validation Accuracy 0.9011%\n",
            "Epoch [51/60] - Train Loss: 0.3294 - Train Accuracy: 0.8850 - Validation Loss: 0.4115 - Validation Accuracy 0.8791%\n",
            "Epoch [52/60] - Train Loss: 0.3628 - Train Accuracy: 0.8500 - Validation Loss: 0.4239 - Validation Accuracy 0.8242%\n",
            "Epoch [53/60] - Train Loss: 0.3209 - Train Accuracy: 0.8650 - Validation Loss: 0.3423 - Validation Accuracy 0.8571%\n",
            "Epoch [54/60] - Train Loss: 0.3526 - Train Accuracy: 0.8300 - Validation Loss: 0.3536 - Validation Accuracy 0.8352%\n",
            "Epoch [55/60] - Train Loss: 0.2701 - Train Accuracy: 0.9000 - Validation Loss: 0.3180 - Validation Accuracy 0.8791%\n",
            "Epoch [56/60] - Train Loss: 0.2090 - Train Accuracy: 0.9300 - Validation Loss: 0.4026 - Validation Accuracy 0.8571%\n",
            "Epoch [57/60] - Train Loss: 0.3555 - Train Accuracy: 0.8700 - Validation Loss: 0.3725 - Validation Accuracy 0.8571%\n",
            "Epoch [58/60] - Train Loss: 0.2615 - Train Accuracy: 0.9100 - Validation Loss: 0.3434 - Validation Accuracy 0.9011%\n",
            "Epoch [59/60] - Train Loss: 0.3531 - Train Accuracy: 0.8450 - Validation Loss: 0.3128 - Validation Accuracy 0.8681%\n",
            "Epoch [60/60] - Train Loss: 0.3159 - Train Accuracy: 0.8800 - Validation Loss: 0.4163 - Validation Accuracy 0.8352%\n"
          ]
        }
      ],
      "source": [
        "# Train the model on the 400X data here (1 points)\n",
        "model_path = '/content/best_model_after400X.pt'\n",
        "epochs = 60\n",
        "magn = \"400X\"\n",
        "\n",
        "wandb.init(\n",
        "    # set the wandb project where this run will be logged\n",
        "    project=\"MIL\",\n",
        "\n",
        "    # track hyperparameters and run metadata\n",
        "    config={\n",
        "    \"learning_rate\": lr,\n",
        "    \"architecture\": \"Attention-based Deep Multiple Instance Learning\",\n",
        "    \"epochs\": epochs,\n",
        "    },\n",
        "    name=magn\n",
        ")\n",
        "\n",
        "# model = torch.load(model_path)\n",
        "# model.load_state_dict(torch.load(model_path))\n",
        "train(dataloader[magn])"
      ]
    },
    {
      "cell_type": "code",
      "execution_count": 122,
      "metadata": {
        "colab": {
          "base_uri": "https://localhost:8080/",
          "height": 533
        },
        "id": "0v9zUwHJURBd",
        "outputId": "196cfdbc-f1e6-4b7f-d7e8-758f9055e469"
      },
      "outputs": [
        {
          "data": {
            "text/html": [
              "<iframe src=\"https://api.wandb.ai/links/amirezzati/ml6f417g\" style=\"border:none;height:512px;width:1024px\">"
            ],
            "text/plain": [
              "<IPython.core.display.HTML object>"
            ]
          },
          "execution_count": 122,
          "metadata": {},
          "output_type": "execute_result"
        }
      ],
      "source": [
        "# Plot loss and accuracy per epoch for 400X here (2 points)\n",
        "# loss plot\n",
        "IPython.display.HTML('<iframe src=\"https://api.wandb.ai/links/amirezzati/ml6f417g\" style=\"border:none;height:512px;width:1024px\">')"
      ]
    },
    {
      "cell_type": "code",
      "execution_count": 104,
      "metadata": {
        "colab": {
          "base_uri": "https://localhost:8080/",
          "height": 533
        },
        "id": "v80qGIfEoqIL",
        "outputId": "d517eee4-880b-4d11-812d-b33e07588acd"
      },
      "outputs": [
        {
          "data": {
            "text/html": [
              "<iframe src=\"https://api.wandb.ai/links/amirezzati/umew3wh0\" style=\"border:none;height:512px;width:1024px\">"
            ],
            "text/plain": [
              "<IPython.core.display.HTML object>"
            ]
          },
          "execution_count": 104,
          "metadata": {},
          "output_type": "execute_result"
        }
      ],
      "source": [
        "# acc plot\n",
        "IPython.display.HTML('<iframe src=\"https://api.wandb.ai/links/amirezzati/umew3wh0\" style=\"border:none;height:512px;width:1024px\">')"
      ]
    },
    {
      "cell_type": "markdown",
      "metadata": {
        "id": "tIy3iwAZ4iK3"
      },
      "source": [
        "**RESULT: Best accuracy on validation set is 90.11%**"
      ]
    },
    {
      "cell_type": "markdown",
      "metadata": {
        "id": "8JwCsjXBVvV9"
      },
      "source": [
        "## Evaluation (8 points)"
      ]
    },
    {
      "cell_type": "markdown",
      "metadata": {
        "id": "XtoCmy9gZeQP"
      },
      "source": [
        "Now, we need to evaluate our best model in every magnification on the test set. Complete the test method and use it for the evaluation of models."
      ]
    },
    {
      "cell_type": "code",
      "execution_count": 107,
      "metadata": {
        "id": "orbk7Pa2Vxxj"
      },
      "outputs": [],
      "source": [
        "# Implement the test method here (4 points)\n",
        "def test(dataloader):\n",
        "    # To-Do\n",
        "    test_loss, test_error, test_acc = validate_one_epoch(dataloader['test'])\n",
        "\n",
        "    print(f'Validation Loss: {test_loss.item():.4f} - '\n",
        "              f'Validation Accuracy {test_acc:.4f}%')\n"
      ]
    },
    {
      "cell_type": "code",
      "execution_count": 112,
      "metadata": {
        "id": "GPCDBrfx7yg2"
      },
      "outputs": [],
      "source": [
        "model_path = '/content/best_model_after400X.pt'\n",
        "model = torch.load(model_path)"
      ]
    },
    {
      "cell_type": "code",
      "execution_count": 118,
      "metadata": {
        "colab": {
          "base_uri": "https://localhost:8080/"
        },
        "id": "PbNxInZJ8Bsd",
        "outputId": "204a40d1-1d42-4adf-a747-c7ca3323e262"
      },
      "outputs": [
        {
          "name": "stdout",
          "output_type": "stream",
          "text": [
            "Validation Loss: 0.4672 - Validation Accuracy 0.8261%\n"
          ]
        }
      ],
      "source": [
        "# Test the model trained on the 40X data here (1 points)\n",
        "magn = \"40X\"\n",
        "test(dataloader[magn])"
      ]
    },
    {
      "cell_type": "code",
      "execution_count": 114,
      "metadata": {
        "colab": {
          "base_uri": "https://localhost:8080/"
        },
        "id": "l8r8iPGB8GzP",
        "outputId": "c9ae7381-441b-4879-af6a-90ab682d3012"
      },
      "outputs": [
        {
          "name": "stdout",
          "output_type": "stream",
          "text": [
            "Validation Loss: 0.2564 - Validation Accuracy 0.9071%\n"
          ]
        }
      ],
      "source": [
        "# Test the model trained on the 100X data here (1 points)\n",
        "magn = \"100X\"\n",
        "test(dataloader[magn])"
      ]
    },
    {
      "cell_type": "code",
      "execution_count": 115,
      "metadata": {
        "colab": {
          "base_uri": "https://localhost:8080/"
        },
        "id": "ZxIzdnjt8I1z",
        "outputId": "867459c9-f239-4a2c-ec9f-b1f96d6dcf9e"
      },
      "outputs": [
        {
          "name": "stdout",
          "output_type": "stream",
          "text": [
            "Validation Loss: 0.3119 - Validation Accuracy 0.8671%\n"
          ]
        }
      ],
      "source": [
        "# Test the model trained on the 200X data here (1 points)\n",
        "magn = \"200X\"\n",
        "test(dataloader[magn])"
      ]
    },
    {
      "cell_type": "code",
      "execution_count": 121,
      "metadata": {
        "colab": {
          "base_uri": "https://localhost:8080/"
        },
        "id": "jJsR3eCU8RRg",
        "outputId": "a74e2a78-ea5d-4916-f4e5-440511c9c417"
      },
      "outputs": [
        {
          "name": "stdout",
          "output_type": "stream",
          "text": [
            "Validation Loss: 0.3048 - Validation Accuracy 0.8718%\n"
          ]
        }
      ],
      "source": [
        "# Test the model trained on the 400X data here (1 points)\n",
        "magn = \"400X\"\n",
        "test(dataloader[magn])"
      ]
    }
  ],
  "metadata": {
    "accelerator": "GPU",
    "colab": {
      "collapsed_sections": [
        "sgJKoh50j3XF"
      ],
      "gpuType": "T4",
      "provenance": []
    },
    "kernelspec": {
      "display_name": "Python 3",
      "name": "python3"
    },
    "language_info": {
      "codemirror_mode": {
        "name": "ipython",
        "version": 3
      },
      "file_extension": ".py",
      "mimetype": "text/x-python",
      "name": "python",
      "nbconvert_exporter": "python",
      "pygments_lexer": "ipython3",
      "version": "3.8.0"
    },
    "widgets": {
      "application/vnd.jupyter.widget-state+json": {
        "00fd79e81ef9463d813c0e426bcfaca1": {
          "model_module": "@jupyter-widgets/controls",
          "model_module_version": "1.5.0",
          "model_name": "FloatProgressModel",
          "state": {
            "_dom_classes": [],
            "_model_module": "@jupyter-widgets/controls",
            "_model_module_version": "1.5.0",
            "_model_name": "FloatProgressModel",
            "_view_count": null,
            "_view_module": "@jupyter-widgets/controls",
            "_view_module_version": "1.5.0",
            "_view_name": "ProgressView",
            "bar_style": "",
            "description": "",
            "description_tooltip": null,
            "layout": "IPY_MODEL_045d384a51084e989a0dc69b76b259f4",
            "max": 1,
            "min": 0,
            "orientation": "horizontal",
            "style": "IPY_MODEL_b1bef84ce5e2403f9687a630525ade51",
            "value": 1
          }
        },
        "045d384a51084e989a0dc69b76b259f4": {
          "model_module": "@jupyter-widgets/base",
          "model_module_version": "1.2.0",
          "model_name": "LayoutModel",
          "state": {
            "_model_module": "@jupyter-widgets/base",
            "_model_module_version": "1.2.0",
            "_model_name": "LayoutModel",
            "_view_count": null,
            "_view_module": "@jupyter-widgets/base",
            "_view_module_version": "1.2.0",
            "_view_name": "LayoutView",
            "align_content": null,
            "align_items": null,
            "align_self": null,
            "border": null,
            "bottom": null,
            "display": null,
            "flex": null,
            "flex_flow": null,
            "grid_area": null,
            "grid_auto_columns": null,
            "grid_auto_flow": null,
            "grid_auto_rows": null,
            "grid_column": null,
            "grid_gap": null,
            "grid_row": null,
            "grid_template_areas": null,
            "grid_template_columns": null,
            "grid_template_rows": null,
            "height": null,
            "justify_content": null,
            "justify_items": null,
            "left": null,
            "margin": null,
            "max_height": null,
            "max_width": null,
            "min_height": null,
            "min_width": null,
            "object_fit": null,
            "object_position": null,
            "order": null,
            "overflow": null,
            "overflow_x": null,
            "overflow_y": null,
            "padding": null,
            "right": null,
            "top": null,
            "visibility": null,
            "width": null
          }
        },
        "1d47474a1a124f779a31dc63cbc668c1": {
          "model_module": "@jupyter-widgets/controls",
          "model_module_version": "1.5.0",
          "model_name": "LabelModel",
          "state": {
            "_dom_classes": [],
            "_model_module": "@jupyter-widgets/controls",
            "_model_module_version": "1.5.0",
            "_model_name": "LabelModel",
            "_view_count": null,
            "_view_module": "@jupyter-widgets/controls",
            "_view_module_version": "1.5.0",
            "_view_name": "LabelView",
            "description": "",
            "description_tooltip": null,
            "layout": "IPY_MODEL_2306b4ba27034b3c81d5e6c733481e00",
            "placeholder": "​",
            "style": "IPY_MODEL_9f2c7521047f47cca9565c0f4a2ed10c",
            "value": "0.017 MB of 0.017 MB uploaded\r"
          }
        },
        "21ff8f6173a14870a83ec997430fb39d": {
          "model_module": "@jupyter-widgets/base",
          "model_module_version": "1.2.0",
          "model_name": "LayoutModel",
          "state": {
            "_model_module": "@jupyter-widgets/base",
            "_model_module_version": "1.2.0",
            "_model_name": "LayoutModel",
            "_view_count": null,
            "_view_module": "@jupyter-widgets/base",
            "_view_module_version": "1.2.0",
            "_view_name": "LayoutView",
            "align_content": null,
            "align_items": null,
            "align_self": null,
            "border": null,
            "bottom": null,
            "display": null,
            "flex": null,
            "flex_flow": null,
            "grid_area": null,
            "grid_auto_columns": null,
            "grid_auto_flow": null,
            "grid_auto_rows": null,
            "grid_column": null,
            "grid_gap": null,
            "grid_row": null,
            "grid_template_areas": null,
            "grid_template_columns": null,
            "grid_template_rows": null,
            "height": null,
            "justify_content": null,
            "justify_items": null,
            "left": null,
            "margin": null,
            "max_height": null,
            "max_width": null,
            "min_height": null,
            "min_width": null,
            "object_fit": null,
            "object_position": null,
            "order": null,
            "overflow": null,
            "overflow_x": null,
            "overflow_y": null,
            "padding": null,
            "right": null,
            "top": null,
            "visibility": null,
            "width": null
          }
        },
        "2306b4ba27034b3c81d5e6c733481e00": {
          "model_module": "@jupyter-widgets/base",
          "model_module_version": "1.2.0",
          "model_name": "LayoutModel",
          "state": {
            "_model_module": "@jupyter-widgets/base",
            "_model_module_version": "1.2.0",
            "_model_name": "LayoutModel",
            "_view_count": null,
            "_view_module": "@jupyter-widgets/base",
            "_view_module_version": "1.2.0",
            "_view_name": "LayoutView",
            "align_content": null,
            "align_items": null,
            "align_self": null,
            "border": null,
            "bottom": null,
            "display": null,
            "flex": null,
            "flex_flow": null,
            "grid_area": null,
            "grid_auto_columns": null,
            "grid_auto_flow": null,
            "grid_auto_rows": null,
            "grid_column": null,
            "grid_gap": null,
            "grid_row": null,
            "grid_template_areas": null,
            "grid_template_columns": null,
            "grid_template_rows": null,
            "height": null,
            "justify_content": null,
            "justify_items": null,
            "left": null,
            "margin": null,
            "max_height": null,
            "max_width": null,
            "min_height": null,
            "min_width": null,
            "object_fit": null,
            "object_position": null,
            "order": null,
            "overflow": null,
            "overflow_x": null,
            "overflow_y": null,
            "padding": null,
            "right": null,
            "top": null,
            "visibility": null,
            "width": null
          }
        },
        "3d245737519c47279135bf23a7a964cb": {
          "model_module": "@jupyter-widgets/controls",
          "model_module_version": "1.5.0",
          "model_name": "FloatProgressModel",
          "state": {
            "_dom_classes": [],
            "_model_module": "@jupyter-widgets/controls",
            "_model_module_version": "1.5.0",
            "_model_name": "FloatProgressModel",
            "_view_count": null,
            "_view_module": "@jupyter-widgets/controls",
            "_view_module_version": "1.5.0",
            "_view_name": "ProgressView",
            "bar_style": "",
            "description": "",
            "description_tooltip": null,
            "layout": "IPY_MODEL_9e5b47b895ad43b88abe8752435e7bcd",
            "max": 1,
            "min": 0,
            "orientation": "horizontal",
            "style": "IPY_MODEL_a35f688a409a4c9da47edf8d88d0cc41",
            "value": 1
          }
        },
        "3e0a3b0267024fc094f27689057d81dc": {
          "model_module": "@jupyter-widgets/controls",
          "model_module_version": "1.5.0",
          "model_name": "ProgressStyleModel",
          "state": {
            "_model_module": "@jupyter-widgets/controls",
            "_model_module_version": "1.5.0",
            "_model_name": "ProgressStyleModel",
            "_view_count": null,
            "_view_module": "@jupyter-widgets/base",
            "_view_module_version": "1.2.0",
            "_view_name": "StyleView",
            "bar_color": null,
            "description_width": ""
          }
        },
        "48496d01280e44e9accfd5659f00dcf9": {
          "model_module": "@jupyter-widgets/base",
          "model_module_version": "1.2.0",
          "model_name": "LayoutModel",
          "state": {
            "_model_module": "@jupyter-widgets/base",
            "_model_module_version": "1.2.0",
            "_model_name": "LayoutModel",
            "_view_count": null,
            "_view_module": "@jupyter-widgets/base",
            "_view_module_version": "1.2.0",
            "_view_name": "LayoutView",
            "align_content": null,
            "align_items": null,
            "align_self": null,
            "border": null,
            "bottom": null,
            "display": null,
            "flex": null,
            "flex_flow": null,
            "grid_area": null,
            "grid_auto_columns": null,
            "grid_auto_flow": null,
            "grid_auto_rows": null,
            "grid_column": null,
            "grid_gap": null,
            "grid_row": null,
            "grid_template_areas": null,
            "grid_template_columns": null,
            "grid_template_rows": null,
            "height": null,
            "justify_content": null,
            "justify_items": null,
            "left": null,
            "margin": null,
            "max_height": null,
            "max_width": null,
            "min_height": null,
            "min_width": null,
            "object_fit": null,
            "object_position": null,
            "order": null,
            "overflow": null,
            "overflow_x": null,
            "overflow_y": null,
            "padding": null,
            "right": null,
            "top": null,
            "visibility": null,
            "width": null
          }
        },
        "4b2c219866cc4a368252decaa3d3dbad": {
          "model_module": "@jupyter-widgets/controls",
          "model_module_version": "1.5.0",
          "model_name": "LabelModel",
          "state": {
            "_dom_classes": [],
            "_model_module": "@jupyter-widgets/controls",
            "_model_module_version": "1.5.0",
            "_model_name": "LabelModel",
            "_view_count": null,
            "_view_module": "@jupyter-widgets/controls",
            "_view_module_version": "1.5.0",
            "_view_name": "LabelView",
            "description": "",
            "description_tooltip": null,
            "layout": "IPY_MODEL_48496d01280e44e9accfd5659f00dcf9",
            "placeholder": "​",
            "style": "IPY_MODEL_fb9d90a92a2f4e9faa39277abe3b3ba7",
            "value": "0.011 MB of 0.011 MB uploaded\r"
          }
        },
        "5815df5c043345aa9eed3ca5f8915a56": {
          "model_module": "@jupyter-widgets/controls",
          "model_module_version": "1.5.0",
          "model_name": "VBoxModel",
          "state": {
            "_dom_classes": [],
            "_model_module": "@jupyter-widgets/controls",
            "_model_module_version": "1.5.0",
            "_model_name": "VBoxModel",
            "_view_count": null,
            "_view_module": "@jupyter-widgets/controls",
            "_view_module_version": "1.5.0",
            "_view_name": "VBoxView",
            "box_style": "",
            "children": [
              "IPY_MODEL_1d47474a1a124f779a31dc63cbc668c1",
              "IPY_MODEL_00fd79e81ef9463d813c0e426bcfaca1"
            ],
            "layout": "IPY_MODEL_ddd4dce758124a30929de993cd900364"
          }
        },
        "6a7e641d489840aa9d11098cf100754f": {
          "model_module": "@jupyter-widgets/base",
          "model_module_version": "1.2.0",
          "model_name": "LayoutModel",
          "state": {
            "_model_module": "@jupyter-widgets/base",
            "_model_module_version": "1.2.0",
            "_model_name": "LayoutModel",
            "_view_count": null,
            "_view_module": "@jupyter-widgets/base",
            "_view_module_version": "1.2.0",
            "_view_name": "LayoutView",
            "align_content": null,
            "align_items": null,
            "align_self": null,
            "border": null,
            "bottom": null,
            "display": null,
            "flex": null,
            "flex_flow": null,
            "grid_area": null,
            "grid_auto_columns": null,
            "grid_auto_flow": null,
            "grid_auto_rows": null,
            "grid_column": null,
            "grid_gap": null,
            "grid_row": null,
            "grid_template_areas": null,
            "grid_template_columns": null,
            "grid_template_rows": null,
            "height": null,
            "justify_content": null,
            "justify_items": null,
            "left": null,
            "margin": null,
            "max_height": null,
            "max_width": null,
            "min_height": null,
            "min_width": null,
            "object_fit": null,
            "object_position": null,
            "order": null,
            "overflow": null,
            "overflow_x": null,
            "overflow_y": null,
            "padding": null,
            "right": null,
            "top": null,
            "visibility": null,
            "width": null
          }
        },
        "713dd4c3b98b495c9a333e44a9d1d19b": {
          "model_module": "@jupyter-widgets/controls",
          "model_module_version": "1.5.0",
          "model_name": "VBoxModel",
          "state": {
            "_dom_classes": [],
            "_model_module": "@jupyter-widgets/controls",
            "_model_module_version": "1.5.0",
            "_model_name": "VBoxModel",
            "_view_count": null,
            "_view_module": "@jupyter-widgets/controls",
            "_view_module_version": "1.5.0",
            "_view_name": "VBoxView",
            "box_style": "",
            "children": [
              "IPY_MODEL_a6419226b6734f1bbb695c83e676c500",
              "IPY_MODEL_a6686963ea1e4e1a9094ca29e3e9a8b5"
            ],
            "layout": "IPY_MODEL_93e0d6b747144ef7a73c1165987b6314"
          }
        },
        "93e0d6b747144ef7a73c1165987b6314": {
          "model_module": "@jupyter-widgets/base",
          "model_module_version": "1.2.0",
          "model_name": "LayoutModel",
          "state": {
            "_model_module": "@jupyter-widgets/base",
            "_model_module_version": "1.2.0",
            "_model_name": "LayoutModel",
            "_view_count": null,
            "_view_module": "@jupyter-widgets/base",
            "_view_module_version": "1.2.0",
            "_view_name": "LayoutView",
            "align_content": null,
            "align_items": null,
            "align_self": null,
            "border": null,
            "bottom": null,
            "display": null,
            "flex": null,
            "flex_flow": null,
            "grid_area": null,
            "grid_auto_columns": null,
            "grid_auto_flow": null,
            "grid_auto_rows": null,
            "grid_column": null,
            "grid_gap": null,
            "grid_row": null,
            "grid_template_areas": null,
            "grid_template_columns": null,
            "grid_template_rows": null,
            "height": null,
            "justify_content": null,
            "justify_items": null,
            "left": null,
            "margin": null,
            "max_height": null,
            "max_width": null,
            "min_height": null,
            "min_width": null,
            "object_fit": null,
            "object_position": null,
            "order": null,
            "overflow": null,
            "overflow_x": null,
            "overflow_y": null,
            "padding": null,
            "right": null,
            "top": null,
            "visibility": null,
            "width": null
          }
        },
        "9e5b47b895ad43b88abe8752435e7bcd": {
          "model_module": "@jupyter-widgets/base",
          "model_module_version": "1.2.0",
          "model_name": "LayoutModel",
          "state": {
            "_model_module": "@jupyter-widgets/base",
            "_model_module_version": "1.2.0",
            "_model_name": "LayoutModel",
            "_view_count": null,
            "_view_module": "@jupyter-widgets/base",
            "_view_module_version": "1.2.0",
            "_view_name": "LayoutView",
            "align_content": null,
            "align_items": null,
            "align_self": null,
            "border": null,
            "bottom": null,
            "display": null,
            "flex": null,
            "flex_flow": null,
            "grid_area": null,
            "grid_auto_columns": null,
            "grid_auto_flow": null,
            "grid_auto_rows": null,
            "grid_column": null,
            "grid_gap": null,
            "grid_row": null,
            "grid_template_areas": null,
            "grid_template_columns": null,
            "grid_template_rows": null,
            "height": null,
            "justify_content": null,
            "justify_items": null,
            "left": null,
            "margin": null,
            "max_height": null,
            "max_width": null,
            "min_height": null,
            "min_width": null,
            "object_fit": null,
            "object_position": null,
            "order": null,
            "overflow": null,
            "overflow_x": null,
            "overflow_y": null,
            "padding": null,
            "right": null,
            "top": null,
            "visibility": null,
            "width": null
          }
        },
        "9f2c7521047f47cca9565c0f4a2ed10c": {
          "model_module": "@jupyter-widgets/controls",
          "model_module_version": "1.5.0",
          "model_name": "DescriptionStyleModel",
          "state": {
            "_model_module": "@jupyter-widgets/controls",
            "_model_module_version": "1.5.0",
            "_model_name": "DescriptionStyleModel",
            "_view_count": null,
            "_view_module": "@jupyter-widgets/base",
            "_view_module_version": "1.2.0",
            "_view_name": "StyleView",
            "description_width": ""
          }
        },
        "a35f688a409a4c9da47edf8d88d0cc41": {
          "model_module": "@jupyter-widgets/controls",
          "model_module_version": "1.5.0",
          "model_name": "ProgressStyleModel",
          "state": {
            "_model_module": "@jupyter-widgets/controls",
            "_model_module_version": "1.5.0",
            "_model_name": "ProgressStyleModel",
            "_view_count": null,
            "_view_module": "@jupyter-widgets/base",
            "_view_module_version": "1.2.0",
            "_view_name": "StyleView",
            "bar_color": null,
            "description_width": ""
          }
        },
        "a3c62e09ca844f5da06a51a25d666172": {
          "model_module": "@jupyter-widgets/base",
          "model_module_version": "1.2.0",
          "model_name": "LayoutModel",
          "state": {
            "_model_module": "@jupyter-widgets/base",
            "_model_module_version": "1.2.0",
            "_model_name": "LayoutModel",
            "_view_count": null,
            "_view_module": "@jupyter-widgets/base",
            "_view_module_version": "1.2.0",
            "_view_name": "LayoutView",
            "align_content": null,
            "align_items": null,
            "align_self": null,
            "border": null,
            "bottom": null,
            "display": null,
            "flex": null,
            "flex_flow": null,
            "grid_area": null,
            "grid_auto_columns": null,
            "grid_auto_flow": null,
            "grid_auto_rows": null,
            "grid_column": null,
            "grid_gap": null,
            "grid_row": null,
            "grid_template_areas": null,
            "grid_template_columns": null,
            "grid_template_rows": null,
            "height": null,
            "justify_content": null,
            "justify_items": null,
            "left": null,
            "margin": null,
            "max_height": null,
            "max_width": null,
            "min_height": null,
            "min_width": null,
            "object_fit": null,
            "object_position": null,
            "order": null,
            "overflow": null,
            "overflow_x": null,
            "overflow_y": null,
            "padding": null,
            "right": null,
            "top": null,
            "visibility": null,
            "width": null
          }
        },
        "a3dae12bb36d438ab9bb89ff9232bf55": {
          "model_module": "@jupyter-widgets/controls",
          "model_module_version": "1.5.0",
          "model_name": "DescriptionStyleModel",
          "state": {
            "_model_module": "@jupyter-widgets/controls",
            "_model_module_version": "1.5.0",
            "_model_name": "DescriptionStyleModel",
            "_view_count": null,
            "_view_module": "@jupyter-widgets/base",
            "_view_module_version": "1.2.0",
            "_view_name": "StyleView",
            "description_width": ""
          }
        },
        "a6419226b6734f1bbb695c83e676c500": {
          "model_module": "@jupyter-widgets/controls",
          "model_module_version": "1.5.0",
          "model_name": "LabelModel",
          "state": {
            "_dom_classes": [],
            "_model_module": "@jupyter-widgets/controls",
            "_model_module_version": "1.5.0",
            "_model_name": "LabelModel",
            "_view_count": null,
            "_view_module": "@jupyter-widgets/controls",
            "_view_module_version": "1.5.0",
            "_view_name": "LabelView",
            "description": "",
            "description_tooltip": null,
            "layout": "IPY_MODEL_21ff8f6173a14870a83ec997430fb39d",
            "placeholder": "​",
            "style": "IPY_MODEL_e30111ef047741948507a26a083b24ab",
            "value": "0.017 MB of 0.017 MB uploaded\r"
          }
        },
        "a6686963ea1e4e1a9094ca29e3e9a8b5": {
          "model_module": "@jupyter-widgets/controls",
          "model_module_version": "1.5.0",
          "model_name": "FloatProgressModel",
          "state": {
            "_dom_classes": [],
            "_model_module": "@jupyter-widgets/controls",
            "_model_module_version": "1.5.0",
            "_model_name": "FloatProgressModel",
            "_view_count": null,
            "_view_module": "@jupyter-widgets/controls",
            "_view_module_version": "1.5.0",
            "_view_name": "ProgressView",
            "bar_style": "",
            "description": "",
            "description_tooltip": null,
            "layout": "IPY_MODEL_f00985a5dc17413c86c2d19cabea43fa",
            "max": 1,
            "min": 0,
            "orientation": "horizontal",
            "style": "IPY_MODEL_f5e3c52ae7254eb3a1c09a58de105199",
            "value": 1
          }
        },
        "a8ed854ad867417f844bf15de8729b0e": {
          "model_module": "@jupyter-widgets/controls",
          "model_module_version": "1.5.0",
          "model_name": "VBoxModel",
          "state": {
            "_dom_classes": [],
            "_model_module": "@jupyter-widgets/controls",
            "_model_module_version": "1.5.0",
            "_model_name": "VBoxModel",
            "_view_count": null,
            "_view_module": "@jupyter-widgets/controls",
            "_view_module_version": "1.5.0",
            "_view_name": "VBoxView",
            "box_style": "",
            "children": [
              "IPY_MODEL_baed51a196034c079a954b6f3db24247",
              "IPY_MODEL_f9d800540ae04f99b7d8542576f6bf1e"
            ],
            "layout": "IPY_MODEL_a3c62e09ca844f5da06a51a25d666172"
          }
        },
        "b1bef84ce5e2403f9687a630525ade51": {
          "model_module": "@jupyter-widgets/controls",
          "model_module_version": "1.5.0",
          "model_name": "ProgressStyleModel",
          "state": {
            "_model_module": "@jupyter-widgets/controls",
            "_model_module_version": "1.5.0",
            "_model_name": "ProgressStyleModel",
            "_view_count": null,
            "_view_module": "@jupyter-widgets/base",
            "_view_module_version": "1.2.0",
            "_view_name": "StyleView",
            "bar_color": null,
            "description_width": ""
          }
        },
        "baed51a196034c079a954b6f3db24247": {
          "model_module": "@jupyter-widgets/controls",
          "model_module_version": "1.5.0",
          "model_name": "LabelModel",
          "state": {
            "_dom_classes": [],
            "_model_module": "@jupyter-widgets/controls",
            "_model_module_version": "1.5.0",
            "_model_name": "LabelModel",
            "_view_count": null,
            "_view_module": "@jupyter-widgets/controls",
            "_view_module_version": "1.5.0",
            "_view_name": "LabelView",
            "description": "",
            "description_tooltip": null,
            "layout": "IPY_MODEL_d2e413919f8141d8839529bdb750deae",
            "placeholder": "​",
            "style": "IPY_MODEL_a3dae12bb36d438ab9bb89ff9232bf55",
            "value": "0.017 MB of 0.017 MB uploaded\r"
          }
        },
        "c44a0c4e21d7466aa231ca5eb4e512c8": {
          "model_module": "@jupyter-widgets/controls",
          "model_module_version": "1.5.0",
          "model_name": "VBoxModel",
          "state": {
            "_dom_classes": [],
            "_model_module": "@jupyter-widgets/controls",
            "_model_module_version": "1.5.0",
            "_model_name": "VBoxModel",
            "_view_count": null,
            "_view_module": "@jupyter-widgets/controls",
            "_view_module_version": "1.5.0",
            "_view_name": "VBoxView",
            "box_style": "",
            "children": [
              "IPY_MODEL_4b2c219866cc4a368252decaa3d3dbad",
              "IPY_MODEL_3d245737519c47279135bf23a7a964cb"
            ],
            "layout": "IPY_MODEL_6a7e641d489840aa9d11098cf100754f"
          }
        },
        "d2e413919f8141d8839529bdb750deae": {
          "model_module": "@jupyter-widgets/base",
          "model_module_version": "1.2.0",
          "model_name": "LayoutModel",
          "state": {
            "_model_module": "@jupyter-widgets/base",
            "_model_module_version": "1.2.0",
            "_model_name": "LayoutModel",
            "_view_count": null,
            "_view_module": "@jupyter-widgets/base",
            "_view_module_version": "1.2.0",
            "_view_name": "LayoutView",
            "align_content": null,
            "align_items": null,
            "align_self": null,
            "border": null,
            "bottom": null,
            "display": null,
            "flex": null,
            "flex_flow": null,
            "grid_area": null,
            "grid_auto_columns": null,
            "grid_auto_flow": null,
            "grid_auto_rows": null,
            "grid_column": null,
            "grid_gap": null,
            "grid_row": null,
            "grid_template_areas": null,
            "grid_template_columns": null,
            "grid_template_rows": null,
            "height": null,
            "justify_content": null,
            "justify_items": null,
            "left": null,
            "margin": null,
            "max_height": null,
            "max_width": null,
            "min_height": null,
            "min_width": null,
            "object_fit": null,
            "object_position": null,
            "order": null,
            "overflow": null,
            "overflow_x": null,
            "overflow_y": null,
            "padding": null,
            "right": null,
            "top": null,
            "visibility": null,
            "width": null
          }
        },
        "d8b1fb43218c4d9f8d23dae12ad64f9c": {
          "model_module": "@jupyter-widgets/base",
          "model_module_version": "1.2.0",
          "model_name": "LayoutModel",
          "state": {
            "_model_module": "@jupyter-widgets/base",
            "_model_module_version": "1.2.0",
            "_model_name": "LayoutModel",
            "_view_count": null,
            "_view_module": "@jupyter-widgets/base",
            "_view_module_version": "1.2.0",
            "_view_name": "LayoutView",
            "align_content": null,
            "align_items": null,
            "align_self": null,
            "border": null,
            "bottom": null,
            "display": null,
            "flex": null,
            "flex_flow": null,
            "grid_area": null,
            "grid_auto_columns": null,
            "grid_auto_flow": null,
            "grid_auto_rows": null,
            "grid_column": null,
            "grid_gap": null,
            "grid_row": null,
            "grid_template_areas": null,
            "grid_template_columns": null,
            "grid_template_rows": null,
            "height": null,
            "justify_content": null,
            "justify_items": null,
            "left": null,
            "margin": null,
            "max_height": null,
            "max_width": null,
            "min_height": null,
            "min_width": null,
            "object_fit": null,
            "object_position": null,
            "order": null,
            "overflow": null,
            "overflow_x": null,
            "overflow_y": null,
            "padding": null,
            "right": null,
            "top": null,
            "visibility": null,
            "width": null
          }
        },
        "ddd4dce758124a30929de993cd900364": {
          "model_module": "@jupyter-widgets/base",
          "model_module_version": "1.2.0",
          "model_name": "LayoutModel",
          "state": {
            "_model_module": "@jupyter-widgets/base",
            "_model_module_version": "1.2.0",
            "_model_name": "LayoutModel",
            "_view_count": null,
            "_view_module": "@jupyter-widgets/base",
            "_view_module_version": "1.2.0",
            "_view_name": "LayoutView",
            "align_content": null,
            "align_items": null,
            "align_self": null,
            "border": null,
            "bottom": null,
            "display": null,
            "flex": null,
            "flex_flow": null,
            "grid_area": null,
            "grid_auto_columns": null,
            "grid_auto_flow": null,
            "grid_auto_rows": null,
            "grid_column": null,
            "grid_gap": null,
            "grid_row": null,
            "grid_template_areas": null,
            "grid_template_columns": null,
            "grid_template_rows": null,
            "height": null,
            "justify_content": null,
            "justify_items": null,
            "left": null,
            "margin": null,
            "max_height": null,
            "max_width": null,
            "min_height": null,
            "min_width": null,
            "object_fit": null,
            "object_position": null,
            "order": null,
            "overflow": null,
            "overflow_x": null,
            "overflow_y": null,
            "padding": null,
            "right": null,
            "top": null,
            "visibility": null,
            "width": null
          }
        },
        "e30111ef047741948507a26a083b24ab": {
          "model_module": "@jupyter-widgets/controls",
          "model_module_version": "1.5.0",
          "model_name": "DescriptionStyleModel",
          "state": {
            "_model_module": "@jupyter-widgets/controls",
            "_model_module_version": "1.5.0",
            "_model_name": "DescriptionStyleModel",
            "_view_count": null,
            "_view_module": "@jupyter-widgets/base",
            "_view_module_version": "1.2.0",
            "_view_name": "StyleView",
            "description_width": ""
          }
        },
        "f00985a5dc17413c86c2d19cabea43fa": {
          "model_module": "@jupyter-widgets/base",
          "model_module_version": "1.2.0",
          "model_name": "LayoutModel",
          "state": {
            "_model_module": "@jupyter-widgets/base",
            "_model_module_version": "1.2.0",
            "_model_name": "LayoutModel",
            "_view_count": null,
            "_view_module": "@jupyter-widgets/base",
            "_view_module_version": "1.2.0",
            "_view_name": "LayoutView",
            "align_content": null,
            "align_items": null,
            "align_self": null,
            "border": null,
            "bottom": null,
            "display": null,
            "flex": null,
            "flex_flow": null,
            "grid_area": null,
            "grid_auto_columns": null,
            "grid_auto_flow": null,
            "grid_auto_rows": null,
            "grid_column": null,
            "grid_gap": null,
            "grid_row": null,
            "grid_template_areas": null,
            "grid_template_columns": null,
            "grid_template_rows": null,
            "height": null,
            "justify_content": null,
            "justify_items": null,
            "left": null,
            "margin": null,
            "max_height": null,
            "max_width": null,
            "min_height": null,
            "min_width": null,
            "object_fit": null,
            "object_position": null,
            "order": null,
            "overflow": null,
            "overflow_x": null,
            "overflow_y": null,
            "padding": null,
            "right": null,
            "top": null,
            "visibility": null,
            "width": null
          }
        },
        "f5e3c52ae7254eb3a1c09a58de105199": {
          "model_module": "@jupyter-widgets/controls",
          "model_module_version": "1.5.0",
          "model_name": "ProgressStyleModel",
          "state": {
            "_model_module": "@jupyter-widgets/controls",
            "_model_module_version": "1.5.0",
            "_model_name": "ProgressStyleModel",
            "_view_count": null,
            "_view_module": "@jupyter-widgets/base",
            "_view_module_version": "1.2.0",
            "_view_name": "StyleView",
            "bar_color": null,
            "description_width": ""
          }
        },
        "f9d800540ae04f99b7d8542576f6bf1e": {
          "model_module": "@jupyter-widgets/controls",
          "model_module_version": "1.5.0",
          "model_name": "FloatProgressModel",
          "state": {
            "_dom_classes": [],
            "_model_module": "@jupyter-widgets/controls",
            "_model_module_version": "1.5.0",
            "_model_name": "FloatProgressModel",
            "_view_count": null,
            "_view_module": "@jupyter-widgets/controls",
            "_view_module_version": "1.5.0",
            "_view_name": "ProgressView",
            "bar_style": "",
            "description": "",
            "description_tooltip": null,
            "layout": "IPY_MODEL_d8b1fb43218c4d9f8d23dae12ad64f9c",
            "max": 1,
            "min": 0,
            "orientation": "horizontal",
            "style": "IPY_MODEL_3e0a3b0267024fc094f27689057d81dc",
            "value": 1
          }
        },
        "fb9d90a92a2f4e9faa39277abe3b3ba7": {
          "model_module": "@jupyter-widgets/controls",
          "model_module_version": "1.5.0",
          "model_name": "DescriptionStyleModel",
          "state": {
            "_model_module": "@jupyter-widgets/controls",
            "_model_module_version": "1.5.0",
            "_model_name": "DescriptionStyleModel",
            "_view_count": null,
            "_view_module": "@jupyter-widgets/base",
            "_view_module_version": "1.2.0",
            "_view_name": "StyleView",
            "description_width": ""
          }
        }
      }
    }
  },
  "nbformat": 4,
  "nbformat_minor": 0
}
